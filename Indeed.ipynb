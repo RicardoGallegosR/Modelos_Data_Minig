{
 "cells": [
  {
   "cell_type": "code",
   "execution_count": 151,
   "metadata": {},
   "outputs": [
    {
     "data": {
      "text/html": [
       "<div>\n",
       "<style scoped>\n",
       "    .dataframe tbody tr th:only-of-type {\n",
       "        vertical-align: middle;\n",
       "    }\n",
       "\n",
       "    .dataframe tbody tr th {\n",
       "        vertical-align: top;\n",
       "    }\n",
       "\n",
       "    .dataframe thead th {\n",
       "        text-align: right;\n",
       "    }\n",
       "</style>\n",
       "<table border=\"1\" class=\"dataframe\">\n",
       "  <thead>\n",
       "    <tr style=\"text-align: right;\">\n",
       "      <th></th>\n",
       "      <th>category</th>\n",
       "      <th>label</th>\n",
       "      <th>title</th>\n",
       "      <th>company</th>\n",
       "      <th>profile</th>\n",
       "    </tr>\n",
       "  </thead>\n",
       "  <tbody>\n",
       "    <tr>\n",
       "      <th>0</th>\n",
       "      <td>Administración y gestión de empresas</td>\n",
       "      <td>1</td>\n",
       "      <td>se busca analista de reclutamiento</td>\n",
       "      <td>chazki</td>\n",
       "      <td>procesos de reclutamiento y adquisición de tal...</td>\n",
       "    </tr>\n",
       "    <tr>\n",
       "      <th>1</th>\n",
       "      <td>Administración y gestión de empresas</td>\n",
       "      <td>1</td>\n",
       "      <td>se busca analista de reclutamiento</td>\n",
       "      <td>chazki</td>\n",
       "      <td>procesos de reclutamiento y adquisición de tal...</td>\n",
       "    </tr>\n",
       "    <tr>\n",
       "      <th>2</th>\n",
       "      <td>Administración y gestión de empresas</td>\n",
       "      <td>1</td>\n",
       "      <td>auxiliar de recursos humanos</td>\n",
       "      <td>zen consultores</td>\n",
       "      <td>esta vacante viene de la bolsa de empleo talen...</td>\n",
       "    </tr>\n",
       "  </tbody>\n",
       "</table>\n",
       "</div>"
      ],
      "text/plain": [
       "                               category label  \\\n",
       "0  Administración y gestión de empresas     1   \n",
       "1  Administración y gestión de empresas     1   \n",
       "2  Administración y gestión de empresas     1   \n",
       "\n",
       "                                title          company  \\\n",
       "0  se busca analista de reclutamiento           chazki   \n",
       "1  se busca analista de reclutamiento           chazki   \n",
       "2        auxiliar de recursos humanos  zen consultores   \n",
       "\n",
       "                                             profile  \n",
       "0  procesos de reclutamiento y adquisición de tal...  \n",
       "1  procesos de reclutamiento y adquisición de tal...  \n",
       "2  esta vacante viene de la bolsa de empleo talen...  "
      ]
     },
     "execution_count": 151,
     "metadata": {},
     "output_type": "execute_result"
    }
   ],
   "source": [
    "import pandas as pd\n",
    "df = pd.read_csv('../bayes/datos2.csv', delimiter = \";\").astype(str)\n",
    "df.head(3)"
   ]
  },
  {
   "cell_type": "code",
   "execution_count": 152,
   "metadata": {},
   "outputs": [
    {
     "name": "stdout",
     "output_type": "stream",
     "text": [
      "procesos de reclutamiento y adquisición de talento.experiencia en reclutamiento masivo en el area de logística ,seguridad privada o call center indispensable.ofrecer apoyo a los empleados en varios temas relacionados con rr. hh., como permisos, compensaciones y solucionar cualquier problema que pueda surgir.mantener registros y archivos de empleadosgarantizar el cumplimiento de las normativas laboralesapoyar en todas las actividades relacionadas con reclutamiento, local foráneo. reclutar y filtrar candidatos idóneos para los diferentes puestosrealizar y redactar las publicaciones de los requerimientos de acuerdo al perfil indicadoescolaridad: licenciatura concluida o trunca de psicología industrial, o administración de empresas.sexo: indistintoedad: 21 en adelanteexperiencia: mínima de 3 años en puesto similar (reclutamiento y selección)competencias:· iniciativa· dinamismo· buena organización· capacidad y criterio en toma de decisiones· buen manejo de relaciones interpersonales· capacidad de trabajo en equiporequisitos:excelentes capacidades comunicativas y don de gentesaptitud para solucionar problemasdeseo de trabajar en equipo con un enfoque orientado a los resultadosgrado en administración de empresas o un campo relacionado.mantener actualizada la base de datos.conocimientos:-manejo del sistema operativo windows y de herramientas como word, excel, y power point.tipo de puesto: tiempo completo, por tiempo indeterminadosalario: a partir de $14,000.00 al mesbeneficios:trabajar desde casauniformes gratuitosvales de despensahorario:lunes a viernes\n"
     ]
    }
   ],
   "source": [
    "print(df['profile'][0])"
   ]
  },
  {
   "cell_type": "code",
   "execution_count": 153,
   "metadata": {},
   "outputs": [
    {
     "data": {
      "text/html": [
       "<div>\n",
       "<style scoped>\n",
       "    .dataframe tbody tr th:only-of-type {\n",
       "        vertical-align: middle;\n",
       "    }\n",
       "\n",
       "    .dataframe tbody tr th {\n",
       "        vertical-align: top;\n",
       "    }\n",
       "\n",
       "    .dataframe thead th {\n",
       "        text-align: right;\n",
       "    }\n",
       "</style>\n",
       "<table border=\"1\" class=\"dataframe\">\n",
       "  <thead>\n",
       "    <tr style=\"text-align: right;\">\n",
       "      <th></th>\n",
       "      <th>category</th>\n",
       "      <th>profile</th>\n",
       "      <th>category_id</th>\n",
       "    </tr>\n",
       "  </thead>\n",
       "  <tbody>\n",
       "    <tr>\n",
       "      <th>0</th>\n",
       "      <td>Administración y gestión de empresas</td>\n",
       "      <td>procesos de reclutamiento y adquisición de tal...</td>\n",
       "      <td>0</td>\n",
       "    </tr>\n",
       "    <tr>\n",
       "      <th>1</th>\n",
       "      <td>Administración y gestión de empresas</td>\n",
       "      <td>procesos de reclutamiento y adquisición de tal...</td>\n",
       "      <td>0</td>\n",
       "    </tr>\n",
       "    <tr>\n",
       "      <th>2</th>\n",
       "      <td>Administración y gestión de empresas</td>\n",
       "      <td>esta vacante viene de la bolsa de empleo talen...</td>\n",
       "      <td>0</td>\n",
       "    </tr>\n",
       "    <tr>\n",
       "      <th>3</th>\n",
       "      <td>Administración y gestión de empresas</td>\n",
       "      <td>somos una empresa mexicana, líder en el giro d...</td>\n",
       "      <td>0</td>\n",
       "    </tr>\n",
       "    <tr>\n",
       "      <th>4</th>\n",
       "      <td>Administración y gestión de empresas</td>\n",
       "      <td>en solvento nos encontramos en búsqueda de tu ...</td>\n",
       "      <td>0</td>\n",
       "    </tr>\n",
       "    <tr>\n",
       "      <th>5</th>\n",
       "      <td>Administración y gestión de empresas</td>\n",
       "      <td>esta vacante viene de la bolsa de empleo talen...</td>\n",
       "      <td>0</td>\n",
       "    </tr>\n",
       "    <tr>\n",
       "      <th>6</th>\n",
       "      <td>Administración y gestión de empresas</td>\n",
       "      <td>mcdonald´s busca nuevo talentote invitamos a c...</td>\n",
       "      <td>0</td>\n",
       "    </tr>\n",
       "    <tr>\n",
       "      <th>7</th>\n",
       "      <td>Administración y gestión de empresas</td>\n",
       "      <td>solicita: analista de adp.objetivo del puestoa...</td>\n",
       "      <td>0</td>\n",
       "    </tr>\n",
       "    <tr>\n",
       "      <th>8</th>\n",
       "      <td>Administración y gestión de empresas</td>\n",
       "      <td>más que buscar un trabajo… busco formar parte ...</td>\n",
       "      <td>0</td>\n",
       "    </tr>\n",
       "    <tr>\n",
       "      <th>9</th>\n",
       "      <td>Administración y gestión de empresas</td>\n",
       "      <td>esta vacante viene de la bolsa de empleo talen...</td>\n",
       "      <td>0</td>\n",
       "    </tr>\n",
       "  </tbody>\n",
       "</table>\n",
       "</div>"
      ],
      "text/plain": [
       "                               category  \\\n",
       "0  Administración y gestión de empresas   \n",
       "1  Administración y gestión de empresas   \n",
       "2  Administración y gestión de empresas   \n",
       "3  Administración y gestión de empresas   \n",
       "4  Administración y gestión de empresas   \n",
       "5  Administración y gestión de empresas   \n",
       "6  Administración y gestión de empresas   \n",
       "7  Administración y gestión de empresas   \n",
       "8  Administración y gestión de empresas   \n",
       "9  Administración y gestión de empresas   \n",
       "\n",
       "                                             profile  category_id  \n",
       "0  procesos de reclutamiento y adquisición de tal...            0  \n",
       "1  procesos de reclutamiento y adquisición de tal...            0  \n",
       "2  esta vacante viene de la bolsa de empleo talen...            0  \n",
       "3  somos una empresa mexicana, líder en el giro d...            0  \n",
       "4  en solvento nos encontramos en búsqueda de tu ...            0  \n",
       "5  esta vacante viene de la bolsa de empleo talen...            0  \n",
       "6  mcdonald´s busca nuevo talentote invitamos a c...            0  \n",
       "7  solicita: analista de adp.objetivo del puestoa...            0  \n",
       "8  más que buscar un trabajo… busco formar parte ...            0  \n",
       "9  esta vacante viene de la bolsa de empleo talen...            0  "
      ]
     },
     "execution_count": 153,
     "metadata": {},
     "output_type": "execute_result"
    }
   ],
   "source": [
    "col = ['category', 'profile']\n",
    "df = df[col]\n",
    "df = df[pd.notnull(df['profile'])]\n",
    "\n",
    "df.columns = ['category', 'profile']\n",
    "\n",
    "df['category_id'] = df['category'].factorize()[0]\n",
    "\n",
    "category_id_df = df[['category', 'category_id']].drop_duplicates().sort_values('category_id')\n",
    "category_to_id = dict(category_id_df.values)\n",
    "id_to_category = dict(category_id_df[['category_id', 'category']].values)\n",
    "df.head(10)"
   ]
  },
  {
   "cell_type": "markdown",
   "metadata": {},
   "source": [
    "# Imbalanced Classes"
   ]
  },
  {
   "cell_type": "code",
   "execution_count": 163,
   "metadata": {},
   "outputs": [
    {
     "data": {
      "image/png": "[encoded data removed]",
      "text/plain": [
       "<Figure size 2880x432 with 1 Axes>"
      ]
     },
     "metadata": {},
     "output_type": "display_data"
    }
   ],
   "source": [
    "from matplotlib import pyplot as plt\n",
    "\n",
    "fig = plt.figure(figsize=(40,6))\n",
    "ax = plt.axes()\n",
    "\n",
    "ax.xaxis.label.set_color('black')\n",
    "ax.tick_params(axis='x', colors='white')\n",
    "ax.yaxis.label.set_color('black')\n",
    "ax.tick_params(axis='y', colors='white')\n",
    "# ax.set_facecolor(\"#0c1621\")\n",
    "# ax.set_title('Indeed', fontsize=40, color= 'white', fontweight='bold')\n",
    "# ax.axes.xaxis.set_visible(False)\n",
    "# ax.grid(False)\n",
    "\n",
    "# # Hide axes ticks\n",
    "# ax.set_xticks([])\n",
    "# ax.set_yticks([])\n",
    "\n",
    "df.groupby('category').profile.count().plot.bar(ylim=0,color=\"#eac488\")\n",
    "\n",
    "plt.rc('font',family='Times New Roman')\n",
    "plt.xticks(fontsize=20, rotation=90, family='Times New Roman')\n",
    "plt.yticks(fontsize=30, family='Times New Roman')\n",
    "plt.grid(color = '#fbe4b4', linewidth = 1)\n",
    "\n",
    "plt.savefig(\"1.png\", transparent=True)\n"
   ]
  },
  {
   "cell_type": "markdown",
   "metadata": {},
   "source": [
    "## Text Representation\n"
   ]
  },
  {
   "cell_type": "code",
   "execution_count": 11,
   "metadata": {},
   "outputs": [
    {
     "name": "stdout",
     "output_type": "stream",
     "text": [
      "['de', 'la', 'que', 'el', 'en', 'y', 'a', 'los', 'del', 'se', 'las', 'por', 'un', 'para', 'con', 'no', 'una', 'su', 'al', 'lo', 'como', 'más', 'pero', 'sus', 'le', 'ya', 'o', 'este', 'sí', 'porque', 'esta', 'entre', 'cuando', 'muy', 'sin', 'sobre', 'también', 'me', 'hasta', 'hay', 'donde', 'quien', 'desde', 'todo', 'nos', 'durante', 'todos', 'uno', 'les', 'ni', 'contra', 'otros', 'ese', 'eso', 'ante', 'ellos', 'e', 'esto', 'mí', 'antes', 'algunos', 'qué', 'unos', 'yo', 'otro', 'otras', 'otra', 'él', 'tanto', 'esa', 'estos', 'mucho', 'quienes', 'nada', 'muchos', 'cual', 'poco', 'ella', 'estar', 'estas', 'algunas', 'algo', 'nosotros', 'mi', 'mis', 'tú', 'te', 'ti', 'tu', 'tus', 'ellas', 'nosotras', 'vosotros', 'vosotras', 'os', 'mío', 'mía', 'míos', 'mías', 'tuyo', 'tuya', 'tuyos', 'tuyas', 'suyo', 'suya', 'suyos', 'suyas', 'nuestro', 'nuestra', 'nuestros', 'nuestras', 'vuestro', 'vuestra', 'vuestros', 'vuestras', 'esos', 'esas', 'estoy', 'estás', 'está', 'estamos', 'estáis', 'están', 'esté', 'estés', 'estemos', 'estéis', 'estén', 'estaré', 'estarás', 'estará', 'estaremos', 'estaréis', 'estarán', 'estaría', 'estarías', 'estaríamos', 'estaríais', 'estarían', 'estaba', 'estabas', 'estábamos', 'estabais', 'estaban', 'estuve', 'estuviste', 'estuvo', 'estuvimos', 'estuvisteis', 'estuvieron', 'estuviera', 'estuvieras', 'estuviéramos', 'estuvierais', 'estuvieran', 'estuviese', 'estuvieses', 'estuviésemos', 'estuvieseis', 'estuviesen', 'estando', 'estado', 'estada', 'estados', 'estadas', 'estad', 'he', 'has', 'ha', 'hemos', 'habéis', 'han', 'haya', 'hayas', 'hayamos', 'hayáis', 'hayan', 'habré', 'habrás', 'habrá', 'habremos', 'habréis', 'habrán', 'habría', 'habrías', 'habríamos', 'habríais', 'habrían', 'había', 'habías', 'habíamos', 'habíais', 'habían', 'hube', 'hubiste', 'hubo', 'hubimos', 'hubisteis', 'hubieron', 'hubiera', 'hubieras', 'hubiéramos', 'hubierais', 'hubieran', 'hubiese', 'hubieses', 'hubiésemos', 'hubieseis', 'hubiesen', 'habiendo', 'habido', 'habida', 'habidos', 'habidas', 'soy', 'eres', 'es', 'somos', 'sois', 'son', 'sea', 'seas', 'seamos', 'seáis', 'sean', 'seré', 'serás', 'será', 'seremos', 'seréis', 'serán', 'sería', 'serías', 'seríamos', 'seríais', 'serían', 'era', 'eras', 'éramos', 'erais', 'eran', 'fui', 'fuiste', 'fue', 'fuimos', 'fuisteis', 'fueron', 'fuera', 'fueras', 'fuéramos', 'fuerais', 'fueran', 'fuese', 'fueses', 'fuésemos', 'fueseis', 'fuesen', 'sintiendo', 'sentido', 'sentida', 'sentidos', 'sentidas', 'siente', 'sentid', 'tengo', 'tienes', 'tiene', 'tenemos', 'tenéis', 'tienen', 'tenga', 'tengas', 'tengamos', 'tengáis', 'tengan', 'tendré', 'tendrás', 'tendrá', 'tendremos', 'tendréis', 'tendrán', 'tendría', 'tendrías', 'tendríamos', 'tendríais', 'tendrían', 'tenía', 'tenías', 'teníamos', 'teníais', 'tenían', 'tuve', 'tuviste', 'tuvo', 'tuvimos', 'tuvisteis', 'tuvieron', 'tuviera', 'tuvieras', 'tuviéramos', 'tuvierais', 'tuvieran', 'tuviese', 'tuvieses', 'tuviésemos', 'tuvieseis', 'tuviesen', 'teniendo', 'tenido', 'tenida', 'tenidos', 'tenidas', 'tened']\n"
     ]
    }
   ],
   "source": [
    "from nltk.corpus import stopwords\n",
    "print(stopwords.words('spanish'))"
   ]
  },
  {
   "cell_type": "code",
   "execution_count": 12,
   "metadata": {},
   "outputs": [
    {
     "name": "stdout",
     "output_type": "stream",
     "text": [
      "frozenset({'estaría', 'everyone', 'whereas', 'mucho', 'estéis', 'estarás', 'hereupon', 'us', 'get', 'sixty', 'tuvisteis', 'below', 'estés', 'seáis', 'muchos', 'several', 'tiene', 'fuiste', 'always', 'though', 'vuestra', 'anyway', 'such', 'vosotras', 'seamos', 'whole', 'estoy', 'estuviera', 'very', 'habríais', 'between', 'with', 'through', 'fuimos', 'un', 'ourselves', 'anyhow', 'tengas', 'be', 'otherwise', 'many', 're', 'todo', 'too', 'fuisteis', 'hubiéramos', 'hubiesen', 'cannot', 'seríamos', 'his', 'estaréis', 'most', 'estando', 'move', 'it', 'vuestros', 'becoming', 'thru', 'tengo', 'ante', 'tenían', 'nada', 'even', 'whereafter', 'sería', 'tenida', 'sentida', 'estará', 'estuvierais', 'estuvisteis', 'estuviste', 'our', 'hube', 'so', 'fifty', 'had', 'off', 'still', 'fifteen', 'take', 'my', 'enough', 'might', 'hers', 'because', 'whom', 'would', 'fueseis', 'habíamos', 'estaríais', 'mis', 'por', 'tuyo', 'tenías', 'vuestro', 'tenga', 'seríais', 'sean', 'onto', 'estos', 'este', 'tengamos', 'amongst', 'upon', 'sincere', 'estas', 'que', 'around', 'across', 'cual', 'tuviera', 'suya', 'afterwards', 'había', 'hubiese', 'fire', 'only', 'above', 'habías', 'habidas', 'that', 'fuéramos', 'ella', 'hemos', 'over', 'tu', 'call', 'somewhere', 'made', 'tuyos', 'forty', 'less', 'other', 'seemed', 'their', 'among', 'tenemos', 'qué', 'e', 'mostly', 'míos', 'almost', 'although', 'tienen', 'tenía', 'tuvimos', 'entre', 'era', 'otra', 'else', 'six', 'show', 'serán', 'sintiendo', 'nothing', 'up', 'go', 'al', 'estaré', 'porque', 'at', 'often', 'them', 'somos', 'one', 'soy', 'without', 'perhaps', 'again', 'against', 'estuviéramos', 'habrás', 'this', 'tened', 'eras', 'estarán', 'beside', 'como', 'bill', 'tú', 'poco', 'until', 'system', 'os', 'sometime', 'tenéis', 'esta', 'once', 'han', 'same', 'etc', 'sin', 'hayas', 'of', 'part', 'whether', 'habían', 'sea', 'if', 'de', 'hundred', 'may', 'uno', 'something', 'hayan', 'fuese', 'done', 'none', 'is', 'then', 'therefore', 'are', 'te', 'also', 'the', 'sentid', 'out', 'after', 'itself', 'either', 'put', 'eso', 'estar', 'name', 'you', 'tuviésemos', 'habré', 'another', 'nuestra', 'amount', 'tendrás', 'estuviesen', 'sentido', 'estás', 'cuando', 'i', 'during', 'via', 'suyo', 'any', 'per', 'tuviesen', 'durante', 'fue', 'y', 'couldnt', 'whose', 'estuviese', 'thereby', 'habremos', 'they', 'neither', 'su', 'co', 'estada', 'les', 'latterly', 'pero', 'whenever', 'estuvieron', 'however', 'suyos', 'whereby', 'estaba', 'before', 'nowhere', 'herself', 'muy', 'es', 'since', 'third', 'eg', 'least', 'an', 'seré', 'algo', 'hayamos', 'erais', 'hubieras', 'therein', 'estábamos', 'from', 'del', 'serious', 'tuvieron', 'estemos', 'antes', 'how', 'have', 'ni', 'tuvierais', 'estados', 'tuvieses', 'down', 'no', 'tenidas', 'tienes', 'quien', 'throughout', 'besides', 'desde', 'el', 'éramos', 'él', 'habríamos', 'tuvo', 'front', 'former', 'some', 'estuvieseis', 'could', 'teníais', 'serían', 'wherein', 'habéis', 'estén', 'seeming', 'hubiera', 'fueras', 'sentidos', 'never', 'estabas', 'hasnt', 'está', 'habrías', 'fui', 'indeed', 'due', 'next', 'ever', 'ese', 'anywhere', 'being', 'hubieses', 'he', 'tuviese', 'haya', 'se', 'las', 'into', 'well', 'please', 'mi', 'sobre', 'nosotras', 'by', 'were', 'seremos', 'yo', 'herein', 'amoungst', 'thereafter', 'anything', 'ti', 'hubo', 'algunos', 'should', 'nos', 'eran', 'twelve', 'seas', 'sí', 'más', 'themselves', 'not', 'estabais', 'nine', 'nuestras', 'about', 'esto', 'están', 'estuvimos', 'ha', 'tuvieseis', 'noone', 'find', 'teniendo', 'tuvieras', 'every', 'three', 'tendrían', 'latter', 'himself', 'fill', 'seréis', 'which', 'who', 'algunas', 'le', 'him', 'tendré', 'together', 'cry', 'a', 'estarían', 'whereupon', 'estáis', 'ellas', 'otras', 'ellos', 'estamos', 'formerly', 'todos', 'habida', 'con', 'both', 'mill', 'see', 'sois', 'thick', 'hubieran', 'hereby', 'yours', 'keep', 'hubierais', 'behind', 'more', 'nuestros', 'estuve', 'here', 'describe', 'has', 'o', 'whatever', 'twenty', 'hereafter', 'hubimos', 'mine', 'tendremos', 'four', 'tendrá', 'toward', 'fuerais', 'eres', 'esté', 'we', 'why', 'contra', 'ya', 'otro', 'eleven', 'tuya', 'each', 'namely', 'estuvo', 'estaremos', 'yourselves', 'hubisteis', 'own', 'hayáis', 'los', 'moreover', 'tendría', 'habrían', 'others', 'than', 'there', 'will', 'habría', 'give', 'estuvieses', 'whither', 'beyond', 'and', 'habíais', 'la', 'vosotros', 'empty', 'fuesen', 'further', 'meanwhile', 'already', 'habrán', 'yet', 'its', 'quienes', 'thus', 'tendríamos', 'thin', 'as', 'do', 'anyone', 'hubiésemos', 'ten', 'siente', 'on', 'these', 'otros', 'detail', 'seem', 'can', 'habido', 'what', 'tengáis', 'two', 'nevertheless', 'una', 'hubieron', 'hubieseis', 'everything', 'fuésemos', 'bottom', 'eight', 'serás', 'habréis', 'thence', 'estuvieran', 'became', 'ie', 'estad', 'found', 'para', 'sus', 'esas', 'nuestro', 'tanto', 'hubiste', 'tendríais', 'become', 'rather', 'am', 'tenido', 'habiendo', 'estadas', 'been', 'to', 'nosotros', 'someone', 'much', 'vuestras', 'estaban', 'hence', 'hay', 'habrá', 'she', 'tus', 'fueran', 'alone', 'tuviste', 'cant', 'mí', 'within', 'suyas', 'mías', 'fuera', 'tenidos', 'few', 'somehow', 'estado', 'elsewhere', 'when', 'teníamos', 'everywhere', 'tuve', 'all', 'también', 'en', 'ltd', 'son', 'except', 'tendréis', 'tendrías', 'where', 'tuviéramos', 'full', 'now', 'those', 'estaríamos', 'last', 'sentidas', 'donde', 'serías', 'tuvieran', 'fueron', 'for', 'inc', 'esos', 'esa', 'yourself', 'nobody', 'top', 'under', 'whence', 'towards', 'habidos', 'mío', 'nor', 'first', 'beforehand', 'estarías', 'sometimes', 'along', 'becomes', 'será', 'in', 'me', 'wherever', 'side', 'back', 'must', 'estuvieras', 'interest', 'or', 'was', 'lo', 'estuviésemos', 'whoever', 'hasta', 'thereupon', 'ours', 'but', 'fueses', 'seems', 'five', 'mía', 'myself', 'unos', 'while', 'tengan', 'tendrán', 'her', 'your', 'tuyas'})\n"
     ]
    }
   ],
   "source": [
    "from sklearn.feature_extraction.text import TfidfVectorizer\n",
    "from sklearn.feature_extraction import text\n",
    "\n",
    "my_stop_words = text.ENGLISH_STOP_WORDS.union(stopwords.words('spanish'))\n",
    "print(my_stop_words)"
   ]
  },
  {
   "cell_type": "code",
   "execution_count": 13,
   "metadata": {},
   "outputs": [],
   "source": [
    "from sklearn.feature_extraction.text import TfidfVectorizer\n",
    "tfidf = TfidfVectorizer(sublinear_tf=True, min_df=5, norm='l2', encoding='latin-1', ngram_range=(1, 2), stop_words=my_stop_words)"
   ]
  },
  {
   "cell_type": "code",
   "execution_count": 14,
   "metadata": {},
   "outputs": [
    {
     "data": {
      "text/plain": [
       "(9174, 55407)"
      ]
     },
     "execution_count": 14,
     "metadata": {},
     "output_type": "execute_result"
    }
   ],
   "source": [
    "features = tfidf.fit_transform(df.profile).toarray()\n",
    "labels = df.category_id\n",
    "features.shape"
   ]
  },
  {
   "cell_type": "code",
   "execution_count": 15,
   "metadata": {},
   "outputs": [
    {
     "name": "stdout",
     "output_type": "stream",
     "text": [
      "# 'Administración y gestión de empresas':\n",
      "  * Most correlated unigrams:\n",
      "- gastronomía\n",
      "- ventas\n",
      "- administración\n",
      "  * Most correlated bigrams:\n",
      "- lic administración\n",
      "- licenciatura administración\n",
      "- administración empresas\n",
      "# 'Ayudante General':\n",
      "  * Most correlated unigrams:\n",
      "- limpieza\n",
      "- secundaria\n",
      "- ayudante\n",
      "  * Most correlated bigrams:\n",
      "- carga descarga\n",
      "- secundaria terminada\n",
      "- ayudante general\n",
      "# 'Ciencias de la computación':\n",
      "  * Most correlated unigrams:\n",
      "- ciencias\n",
      "- computación\n",
      "- planet\n",
      "  * Most correlated bigrams:\n",
      "- dedicada implementación\n",
      "- planet media\n",
      "- ciencias computación\n",
      "# 'Contabilidad y fiscalización':\n",
      "  * Most correlated unigrams:\n",
      "- impuestos\n",
      "- contable\n",
      "- contabilidad\n",
      "  * Most correlated bigrams:\n",
      "- conciliaciones bancarias\n",
      "- experiencia contabilidad\n",
      "- contabilidad general\n",
      "# 'Derecho':\n",
      "  * Most correlated unigrams:\n",
      "- derechos\n",
      "- abogado\n",
      "- derecho\n",
      "  * Most correlated bigrams:\n",
      "- experiencia abogado\n",
      "- lic derecho\n",
      "- licenciatura derecho\n",
      "# 'Docencia':\n",
      "  * Most correlated unigrams:\n",
      "- impartir\n",
      "- clases\n",
      "- docente\n",
      "  * Most correlated bigrams:\n",
      "- impartir clases\n",
      "- docente unitec\n",
      "- experiencia docente\n",
      "# 'Enfermería':\n",
      "  * Most correlated unigrams:\n",
      "- quirófano\n",
      "- enfermera\n",
      "- enfermería\n",
      "  * Most correlated bigrams:\n",
      "- toma muestras\n",
      "- certificación título\n",
      "- licenciatura enfermería\n",
      "# 'Ingeniería industrial, mecánica, electrónica & Diseño grafico':\n",
      "  * Most correlated unigrams:\n",
      "- industrial\n",
      "- ingeniería\n",
      "- mecánica\n",
      "  * Most correlated bigrams:\n",
      "- diseño gráfico\n",
      "- ingeniería mecánica\n",
      "- ingeniería industrial\n",
      "# 'Medicina, médico general, Médico pasante, radiologo':\n",
      "  * Most correlated unigrams:\n",
      "- médicos\n",
      "- consultorio\n",
      "- medico\n",
      "  * Most correlated bigrams:\n",
      "- médicos bienestar\n",
      "- médicos generales\n",
      "- consulta primer\n",
      "# 'Psicología':\n",
      "  * Most correlated unigrams:\n",
      "- humanos\n",
      "- psicología\n",
      "- reclutamiento\n",
      "  * Most correlated bigrams:\n",
      "- experiencia reclutamiento\n",
      "- recursos humanos\n",
      "- reclutamiento selección\n",
      "# 'Tecnologías de la información  y la comunicación':\n",
      "  * Most correlated unigrams:\n",
      "- sistemas\n",
      "- tecnologías\n",
      "- tecnología\n",
      "  * Most correlated bigrams:\n",
      "- sistemas computacionales\n",
      "- tecnologías información\n",
      "- ing sistemas\n"
     ]
    }
   ],
   "source": [
    "from sklearn.feature_selection import chi2\n",
    "import numpy as np\n",
    "N = 3\n",
    "for jobs, category_id in sorted(category_to_id.items()):\n",
    "  features_chi2 = chi2(features, labels == category_id)\n",
    "  indices = np.argsort(features_chi2[0])\n",
    "  \n",
    "  feature_names = np.array(tfidf.get_feature_names_out())[indices]\n",
    "  unigrams = [v for v in feature_names if len(v.split(' ')) == 1]\n",
    "  bigrams = [v for v in feature_names if len(v.split(' ')) == 2]\n",
    "  \n",
    "  print(\"# '{}':\".format(jobs))\n",
    "  print(\"  * Most correlated unigrams:\\n- {}\".format('\\n- '.join(unigrams[-N:])))\n",
    "  print(\"  * Most correlated bigrams:\\n- {}\".format('\\n- '.join(bigrams[-N:])))"
   ]
  },
  {
   "cell_type": "markdown",
   "metadata": {},
   "source": [
    "## Model Selection"
   ]
  },
  {
   "cell_type": "code",
   "execution_count": 16,
   "metadata": {},
   "outputs": [
    {
     "name": "stdout",
     "output_type": "stream",
     "text": [
      "4\n"
     ]
    }
   ],
   "source": [
    "from sklearn.linear_model import LogisticRegression\n",
    "from sklearn.ensemble import RandomForestClassifier\n",
    "from sklearn.svm import LinearSVC\n",
    "from sklearn.naive_bayes import MultinomialNB\n",
    "from sklearn.model_selection import cross_val_score\n",
    "from sklearn.model_selection import train_test_split\n",
    "from sklearn.feature_extraction.text import CountVectorizer\n",
    "from sklearn.feature_extraction.text import TfidfTransformer\n",
    "from sklearn.naive_bayes import MultinomialNB\n",
    "\n",
    "X_train, X_test, y_train, y_test = train_test_split(df['profile'], df['category'], random_state = 0)\n",
    "\n",
    "\n",
    "count_vect = CountVectorizer()\n",
    "X_train_counts = count_vect.fit_transform(X_train)\n",
    "\n",
    "tfidf_transformer = TfidfTransformer()\n",
    "X_train_tfidf = tfidf_transformer.fit_transform(X_train_counts)\n",
    "\n",
    "models = [\n",
    "    RandomForestClassifier(n_estimators=200, max_depth=3, random_state=0),\n",
    "    LinearSVC(),\n",
    "    MultinomialNB(),\n",
    "    LogisticRegression(random_state=0),\n",
    "]\n",
    "print (len(models))"
   ]
  },
  {
   "cell_type": "code",
   "execution_count": 17,
   "metadata": {},
   "outputs": [
    {
     "name": "stderr",
     "output_type": "stream",
     "text": [
      "c:\\Users\\Ricardo\\AppData\\Local\\Programs\\Python\\Python310\\lib\\site-packages\\sklearn\\linear_model\\_logistic.py:814: ConvergenceWarning: lbfgs failed to converge (status=1):\n",
      "STOP: TOTAL NO. of ITERATIONS REACHED LIMIT.\n",
      "\n",
      "Increase the number of iterations (max_iter) or scale the data as shown in:\n",
      "    https://scikit-learn.org/stable/modules/preprocessing.html\n",
      "Please also refer to the documentation for alternative solver options:\n",
      "    https://scikit-learn.org/stable/modules/linear_model.html#logistic-regression\n",
      "  n_iter_i = _check_optimize_result(\n",
      "c:\\Users\\Ricardo\\AppData\\Local\\Programs\\Python\\Python310\\lib\\site-packages\\sklearn\\linear_model\\_logistic.py:814: ConvergenceWarning: lbfgs failed to converge (status=1):\n",
      "STOP: TOTAL NO. of ITERATIONS REACHED LIMIT.\n",
      "\n",
      "Increase the number of iterations (max_iter) or scale the data as shown in:\n",
      "    https://scikit-learn.org/stable/modules/preprocessing.html\n",
      "Please also refer to the documentation for alternative solver options:\n",
      "    https://scikit-learn.org/stable/modules/linear_model.html#logistic-regression\n",
      "  n_iter_i = _check_optimize_result(\n",
      "c:\\Users\\Ricardo\\AppData\\Local\\Programs\\Python\\Python310\\lib\\site-packages\\sklearn\\linear_model\\_logistic.py:814: ConvergenceWarning: lbfgs failed to converge (status=1):\n",
      "STOP: TOTAL NO. of ITERATIONS REACHED LIMIT.\n",
      "\n",
      "Increase the number of iterations (max_iter) or scale the data as shown in:\n",
      "    https://scikit-learn.org/stable/modules/preprocessing.html\n",
      "Please also refer to the documentation for alternative solver options:\n",
      "    https://scikit-learn.org/stable/modules/linear_model.html#logistic-regression\n",
      "  n_iter_i = _check_optimize_result(\n",
      "c:\\Users\\Ricardo\\AppData\\Local\\Programs\\Python\\Python310\\lib\\site-packages\\sklearn\\linear_model\\_logistic.py:814: ConvergenceWarning: lbfgs failed to converge (status=1):\n",
      "STOP: TOTAL NO. of ITERATIONS REACHED LIMIT.\n",
      "\n",
      "Increase the number of iterations (max_iter) or scale the data as shown in:\n",
      "    https://scikit-learn.org/stable/modules/preprocessing.html\n",
      "Please also refer to the documentation for alternative solver options:\n",
      "    https://scikit-learn.org/stable/modules/linear_model.html#logistic-regression\n",
      "  n_iter_i = _check_optimize_result(\n",
      "c:\\Users\\Ricardo\\AppData\\Local\\Programs\\Python\\Python310\\lib\\site-packages\\sklearn\\linear_model\\_logistic.py:814: ConvergenceWarning: lbfgs failed to converge (status=1):\n",
      "STOP: TOTAL NO. of ITERATIONS REACHED LIMIT.\n",
      "\n",
      "Increase the number of iterations (max_iter) or scale the data as shown in:\n",
      "    https://scikit-learn.org/stable/modules/preprocessing.html\n",
      "Please also refer to the documentation for alternative solver options:\n",
      "    https://scikit-learn.org/stable/modules/linear_model.html#logistic-regression\n",
      "  n_iter_i = _check_optimize_result(\n"
     ]
    }
   ],
   "source": [
    "CV = 5\n",
    "cv_df = pd.DataFrame(index=range(CV * len(models)))\n",
    "entries = []\n",
    "\n",
    "\n",
    "for model in models: \n",
    "    model_name = model.__class__.__name__\n",
    "    accuracies = cross_val_score(model, features, labels, scoring='accuracy', cv=CV)\n",
    "    \n",
    "    for fold_idx, accuracy in enumerate(accuracies):\n",
    "        entries.append((model_name, fold_idx, accuracy))\n",
    "\n",
    "cv_df = pd.DataFrame(entries, columns=['model_name', 'fold_idx', 'accuracy'])"
   ]
  },
  {
   "cell_type": "code",
   "execution_count": 244,
   "metadata": {},
   "outputs": [
    {
     "data": {
      "image/png": "[encoded data removed]",
      "text/plain": [
       "<Figure size 720x720 with 1 Axes>"
      ]
     },
     "metadata": {},
     "output_type": "display_data"
    }
   ],
   "source": [
    "import seaborn as sns\n",
    "\n",
    "fig = plt.figure(figsize=(10,10),facecolor='white')\n",
    "plt.rc('font',family='Times New Roman')\n",
    "ax = plt.axes()\n",
    "\n",
    "c = \"#7756BF\"\n",
    "b = \"#fbe4b4\"\n",
    "\n",
    "sns.boxplot(x='model_name', y='accuracy',\n",
    "    boxprops=dict(facecolor=c, color=b), \n",
    "    capprops=dict(color=c),\n",
    "    whiskerprops=dict(color=c),\n",
    "    flierprops=dict(color=c, markeredgecolor=c),\n",
    "    medianprops=dict(color=c),\n",
    "    data=cv_df, linewidth=2.5\n",
    "    )\n",
    "\n",
    "sns.stripplot(x='model_name', y='accuracy', data=cv_df, \n",
    "    size=8, jitter=True,color=b, edgecolor=c, alpha=.90,\n",
    "    linewidth=2.5, \n",
    "    )\n",
    "\n",
    "plt.xticks(rotation=0,fontsize=18)\n",
    "plt.yticks(fontsize=18)\n",
    "plt.grid(color = '#BF9765', linestyle = '--', linewidth = 1)\n",
    "# plt.tick_params(axis='both', which='major', labelsize=18)\n",
    "\n",
    "ax.xaxis.label.set_color('black')\n",
    "ax.tick_params(axis='x', colors='white')\n",
    "ax.yaxis.label.set_color('black')\n",
    "ax.tick_params(axis='y', colors='white')\n",
    "ax.xaxis.label.set_color('white')\n",
    "\n",
    "sns.set(font_scale=0)\n",
    "\n",
    "\n",
    "plt.savefig(\"Comparativa_de_Modelos.png\", transparent=True)\n",
    "plt.show()"
   ]
  },
  {
   "cell_type": "code",
   "execution_count": 19,
   "metadata": {},
   "outputs": [
    {
     "data": {
      "text/plain": [
       "model_name\n",
       "LinearSVC                 0.688792\n",
       "LogisticRegression        0.687046\n",
       "MultinomialNB             0.562893\n",
       "RandomForestClassifier    0.382163\n",
       "Name: accuracy, dtype: float64"
      ]
     },
     "execution_count": 19,
     "metadata": {},
     "output_type": "execute_result"
    }
   ],
   "source": [
    "cv_df.groupby('model_name').accuracy.mean()"
   ]
  },
  {
   "cell_type": "code",
   "execution_count": 20,
   "metadata": {},
   "outputs": [],
   "source": [
    "model = LinearSVC(random_state=0)\n",
    "X_train, X_test, y_train, y_test, indices_train, indices_test = train_test_split(features, labels, df.index, test_size=0.33, random_state=0)\n",
    "\n",
    "model.fit(X_train, y_train)\n",
    "y_pred = model.predict(X_test)"
   ]
  },
  {
   "cell_type": "markdown",
   "metadata": {},
   "source": [
    "---\n",
    "# Test Modelo\n",
    "\n",
    "---"
   ]
  },
  {
   "cell_type": "code",
   "execution_count": 21,
   "metadata": {},
   "outputs": [
    {
     "data": {
      "text/plain": [
       "{'C': 1.0,\n",
       " 'class_weight': None,\n",
       " 'dual': True,\n",
       " 'fit_intercept': True,\n",
       " 'intercept_scaling': 1,\n",
       " 'loss': 'squared_hinge',\n",
       " 'max_iter': 1000,\n",
       " 'multi_class': 'ovr',\n",
       " 'penalty': 'l2',\n",
       " 'random_state': 0,\n",
       " 'tol': 0.0001,\n",
       " 'verbose': 0}"
      ]
     },
     "execution_count": 21,
     "metadata": {},
     "output_type": "execute_result"
    }
   ],
   "source": [
    "model.get_params(deep=True)"
   ]
  },
  {
   "cell_type": "code",
   "execution_count": 22,
   "metadata": {},
   "outputs": [
    {
     "name": "stdout",
     "output_type": "stream",
     "text": [
      "[4]\n"
     ]
    }
   ],
   "source": [
    "Vector = tfidf.transform(['18 años de experiencia dentro del ámbito hospitalario a nivel operativo y administrativo. La gestión del factor humano en la formación y en la formación sigue inmersa en el cuidado de la salud.']).toarray()\n",
    "\n",
    "y_pred_ = model.predict(Vector)\n",
    "print(y_pred_)\n"
   ]
  },
  {
   "cell_type": "code",
   "execution_count": 68,
   "metadata": {},
   "outputs": [
    {
     "data": {
      "image/png": "[encoded data removed]",
      "text/plain": [
       "<Figure size 1440x1440 with 2 Axes>"
      ]
     },
     "metadata": {},
     "output_type": "display_data"
    }
   ],
   "source": [
    "from sklearn.metrics import confusion_matrix\n",
    "\n",
    "plt.rc('font',family='Times New Roman')\n",
    "\n",
    "\n",
    "conf_mat = confusion_matrix(y_test, y_pred)\n",
    "fig,ax1 = plt.subplots(figsize=(20,20))\n",
    "\n",
    "\n",
    "\n",
    "ax = sns.heatmap(conf_mat, annot=True, fmt='d', xticklabels=etiquetas, \n",
    "    yticklabels=etiquetas)\n",
    "\n",
    "\n",
    "\n",
    "ax.xaxis.label.set_color('white')\n",
    "ax.tick_params(axis='x', colors='white')\n",
    "ax.yaxis.label.set_color('white')\n",
    "ax.tick_params(axis='y', colors='white')\n",
    "\n",
    "\n",
    "plt.xticks(fontsize=25)\n",
    "plt.yticks(fontsize=25)\n",
    "\n",
    "plt.savefig(\"matriz_confusion.png\", transparent=True)\n",
    "plt.show()\n"
   ]
  },
  {
   "cell_type": "markdown",
   "metadata": {},
   "source": [
    "# Model Evaluation"
   ]
  },
  {
   "cell_type": "code",
   "execution_count": 24,
   "metadata": {},
   "outputs": [
    {
     "name": "stderr",
     "output_type": "stream",
     "text": [
      "c:\\Users\\Ricardo\\AppData\\Local\\Programs\\Python\\Python310\\lib\\site-packages\\sklearn\\utils\\deprecation.py:87: FutureWarning: Function get_feature_names is deprecated; get_feature_names is deprecated in 1.0 and will be removed in 1.2. Please use get_feature_names_out instead.\n",
      "  warnings.warn(msg, category=FutureWarning)\n"
     ]
    },
    {
     "name": "stdout",
     "output_type": "stream",
     "text": [
      "# 'Administración y gestión de empresas':\n",
      "  *Top unigrams:\n",
      "       . administración\n",
      "       . empresa\n",
      "  *Top bigrams:\n",
      "       . administración empresas\n",
      "       . lic administración\n",
      "# 'Ayudante General':\n",
      "  *Top unigrams:\n",
      "       . limpieza\n",
      "       . chofer\n",
      "  *Top bigrams:\n",
      "       . ayudante general\n",
      "       . secundaria terminada\n",
      "# 'Ciencias de la computación':\n",
      "  *Top unigrams:\n",
      "       . ciencias\n",
      "       . computación\n",
      "  *Top bigrams:\n",
      "       . ciencias computación\n",
      "       . licenciatura ciencias\n",
      "# 'Contabilidad y fiscalización':\n",
      "  *Top unigrams:\n",
      "       . contabilidad\n",
      "       . fiscal\n",
      "  *Top bigrams:\n",
      "       . licenciatura contabilidad\n",
      "       . analista cuentas\n",
      "# 'Derecho':\n",
      "  *Top unigrams:\n",
      "       . derecho\n",
      "       . derechos\n",
      "  *Top bigrams:\n",
      "       . licenciatura derecho\n",
      "       . lic derecho\n",
      "# 'Docencia':\n",
      "  *Top unigrams:\n",
      "       . docente\n",
      "       . alumnos\n",
      "  *Top bigrams:\n",
      "       . puesto medio\n",
      "       . impartir clases\n",
      "# 'Enfermería':\n",
      "  *Top unigrams:\n",
      "       . enfermería\n",
      "       . enfermera\n",
      "  *Top bigrams:\n",
      "       . certificación título\n",
      "       . toma muestras\n",
      "# 'Ingeniería industrial, mecánica, electrónica & Diseño grafico':\n",
      "  *Top unigrams:\n",
      "       . ingeniería\n",
      "       . industrial\n",
      "  *Top bigrams:\n",
      "       . ingeniería industrial\n",
      "       . diseño gráfico\n",
      "# 'Medicina, médico general, Médico pasante, radiologo':\n",
      "  *Top unigrams:\n",
      "       . general\n",
      "       . medico\n",
      "  *Top bigrams:\n",
      "       . gastos médicos\n",
      "       . medicina general\n",
      "# 'Psicología':\n",
      "  *Top unigrams:\n",
      "       . psicología\n",
      "       . reclutamiento\n",
      "  *Top bigrams:\n",
      "       . recursos humanos\n",
      "       . licenciatura psicología\n",
      "# 'Tecnologías de la información  y la comunicación':\n",
      "  *Top unigrams:\n",
      "       . tecnología\n",
      "       . comunicación\n",
      "  *Top bigrams:\n",
      "       . ing sistemas\n",
      "       . analista datos\n"
     ]
    }
   ],
   "source": [
    "model.fit(features, labels)\n",
    "N = 2\n",
    "for Product, category_id in sorted(category_to_id.items()):\n",
    "  indices = np.argsort(model.coef_[category_id])\n",
    "  feature_names = np.array(tfidf.get_feature_names())[indices]\n",
    "  unigrams = [v for v in reversed(feature_names) if len(v.split(' ')) == 1][:N]\n",
    "  bigrams = [v for v in reversed(feature_names) if len(v.split(' ')) == 2][:N]\n",
    "  print(\"# '{}':\".format(Product))\n",
    "  print(\"  *Top unigrams:\\n       . {}\".format('\\n       . '.join(unigrams)))\n",
    "  print(\"  *Top bigrams:\\n       . {}\".format('\\n       . '.join(bigrams)))"
   ]
  },
  {
   "cell_type": "code",
   "execution_count": 25,
   "metadata": {},
   "outputs": [
    {
     "name": "stdout",
     "output_type": "stream",
     "text": [
      "                                                               precision    recall  f1-score   support\n",
      "\n",
      "                         Administración y gestión de empresas       0.42      0.42      0.42       308\n",
      "                                 Contabilidad y fiscalización       0.76      0.82      0.79       461\n",
      "                                                      Derecho       0.78      0.58      0.66       218\n",
      "                                                     Docencia       0.73      0.81      0.77       140\n",
      "             Tecnologías de la información  y la comunicación       0.67      0.74      0.70       494\n",
      "Ingeniería industrial, mecánica, electrónica & Diseño grafico       0.76      0.76      0.76       430\n",
      "          Medicina, médico general, Médico pasante, radiologo       0.57      0.43      0.49       236\n",
      "                                                   Enfermería       0.74      0.72      0.73       114\n",
      "                                                   Psicología       0.74      0.69      0.71       281\n",
      "                                   Ciencias de la computación       0.48      0.30      0.37        33\n",
      "                                             Ayudante General       0.80      0.92      0.86       313\n",
      "\n",
      "                                                     accuracy                           0.70      3028\n",
      "                                                    macro avg       0.68      0.65      0.66      3028\n",
      "                                                 weighted avg       0.69      0.70      0.69      3028\n",
      "\n"
     ]
    }
   ],
   "source": [
    "from sklearn import metrics\n",
    "print(metrics.classification_report(y_test, y_pred, target_names=df['category'].unique()))"
   ]
  },
  {
   "cell_type": "markdown",
   "metadata": {},
   "source": [
    "la precision es la capacidad del clasificador para no etiquetar como positiva una muestra que es negativa, y la recall es la capacidad del clasificador para encontrar todas las muestras positivas.\n",
    "\n",
    "La puntuación F1 se puede interpretar como una media armónica de precisión y recuperación, donde una puntuación F1 alcanza su mejor valor en 1 y su peor puntuación en 0.\n",
    "\n",
    "El support es el número de ocurrencias de cada clase en y_true."
   ]
  }
 ],
 "metadata": {
  "interpreter": {
   "hash": "f70c1e2fb12efbb75f4672ba1915fe938ef6bbf49e61743293f7740cd33511b7"
  },
  "kernelspec": {
   "display_name": "Python 3.10.1 64-bit",
   "language": "python",
   "name": "python3"
  },
  "language_info": {
   "codemirror_mode": {
    "name": "ipython",
    "version": 3
   },
   "file_extension": ".py",
   "mimetype": "text/x-python",
   "name": "python",
   "nbconvert_exporter": "python",
   "pygments_lexer": "ipython3",
   "version": "3.10.1"
  },
  "orig_nbformat": 4
 },
 "nbformat": 4,
 "nbformat_minor": 2
}
