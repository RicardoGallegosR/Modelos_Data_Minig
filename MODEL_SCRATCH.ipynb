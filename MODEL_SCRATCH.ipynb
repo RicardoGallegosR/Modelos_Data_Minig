{
 "cells": [
  {
   "cell_type": "code",
   "execution_count": 9,
   "metadata": {},
   "outputs": [],
   "source": [
    "#from msilib.schema import Directory\n",
    "import tensorflow as tf\n",
    "import numpy as np\n",
    "#from tensorflow.keras.layers import TextVectorization\n",
    "import string\n",
    "import re\n",
    "from tensorflow import keras\n",
    "from tensorflow.keras import layers"
   ]
  },
  {
   "cell_type": "code",
   "execution_count": 10,
   "metadata": {},
   "outputs": [
    {
     "name": "stdout",
     "output_type": "stream",
     "text": [
      "Found 50000 files belonging to 4 classes.\n",
      "Using 40000 files for training.\n",
      "Found 50000 files belonging to 4 classes.\n",
      "Using 10000 files for validation.\n",
      "Found 6053 files belonging to 2 classes.\n",
      "Number of batches in raw_train_ds: 1250\n",
      "Number of batches in raw_val_ds: 313\n",
      "Number of batches in raw_test_ds: 190\n"
     ]
    }
   ],
   "source": [
    "batch_size = 32\n",
    "raw_train_ds = tf.keras.preprocessing.text_dataset_from_directory(\n",
    "    r\"C:\\Users\\luis_\\OneDrive\\Escritorio\\PT3\\BDKeras\",\n",
    "    batch_size=batch_size,\n",
    "    validation_split=0.2,\n",
    "    subset=\"training\",\n",
    "    seed=1337,\n",
    ")\n",
    "raw_val_ds = tf.keras.preprocessing.text_dataset_from_directory(\n",
    "    r\"C:\\Users\\luis_\\OneDrive\\Escritorio\\PT3\\BDKeras\",\n",
    "    batch_size=batch_size,\n",
    "    validation_split=0.2,\n",
    "    subset=\"validation\",\n",
    "    seed=1337,\n",
    ")\n",
    "raw_test_ds = tf.keras.preprocessing.text_dataset_from_directory(\n",
    "    r\"C:\\Users\\luis_\\OneDrive\\Escritorio\\PT3\\pop4\", batch_size=batch_size\n",
    ")\n",
    "\n",
    "\n",
    "print(f\"Number of batches in raw_train_ds: {raw_train_ds.cardinality()}\")\n",
    "print(f\"Number of batches in raw_val_ds: {raw_val_ds.cardinality()}\")\n",
    "print(f\"Number of batches in raw_test_ds: {raw_test_ds.cardinality()}\")"
   ]
  },
  {
   "cell_type": "code",
   "execution_count": 6,
   "metadata": {},
   "outputs": [
    {
     "name": "stdout",
     "output_type": "stream",
     "text": [
      "<MapDataset element_spec=TensorSpec(shape=(None,), dtype=tf.string, name=None)>\n",
      "<BatchDataset element_spec=(TensorSpec(shape=(None,), dtype=tf.string, name=None), TensorSpec(shape=(None,), dtype=tf.int32, name=None))>\n"
     ]
    }
   ],
   "source": [
    "def custom_standardization(input_data):\n",
    "    lowercase = tf.strings.lower(input_data)\n",
    "    stripped_html = tf.strings.regex_replace(lowercase, \"<br />\", \" \")\n",
    "    return tf.strings.regex_replace(\n",
    "        stripped_html, f\"[{re.escape(string.punctuation)}]\", \"\"\n",
    "    )\n",
    "\n",
    "\n",
    "# Model constants.\n",
    "max_features = 20000\n",
    "embedding_dim = 128\n",
    "sequence_length = 500\n",
    "\n",
    "# Now that we have our custom standardization, we can instantiate our text\n",
    "# vectorization layer. We are using this layer to normalize, split, and map\n",
    "# strings to integers, so we set our 'output_mode' to 'int'.\n",
    "# Note that we're using the default split function,\n",
    "# and the custom standardization defined above.\n",
    "# We also set an explicit maximum sequence length, since the CNNs later in our\n",
    "# model won't support ragged sequences.\n",
    "vectorize_layer = TextVectorization(\n",
    "    standardize=custom_standardization,\n",
    "    max_tokens=max_features,\n",
    "    output_mode=\"int\",\n",
    "    output_sequence_length=sequence_length,\n",
    ")\n",
    "\n",
    "# Now that the vocab layer has been created, call `adapt` on a text-only\n",
    "# dataset to create the vocabulary. You don't have to batch, but for very large\n",
    "# datasets this means you're not keeping spare copies of the dataset in memory.\n",
    "\n",
    "# Let's make a text-only dataset (no labels):\n",
    "text_ds = raw_train_ds.map(lambda x, y: x)\n",
    "# Let's call `adapt`:\n",
    "vectorize_layer.adapt(text_ds)\n",
    "\n",
    "def custom_standardization(input_data):\n",
    "    lowercase = tf.strings.lower(input_data)\n",
    "    stripped_html = tf.strings.regex_replace(lowercase, \"<br />\", \" \")\n",
    "    return tf.strings.regex_replace(\n",
    "        stripped_html, f\"[{re.escape(string.punctuation)}]\", \"\"\n",
    "    )\n",
    "\n",
    "\n",
    "# Model constants.\n",
    "max_features = 20000\n",
    "embedding_dim = 128\n",
    "sequence_length = 500\n",
    "\n",
    "# Now that we have our custom standardization, we can instantiate our text\n",
    "# vectorization layer. We are using this layer to normalize, split, and map\n",
    "# strings to integers, so we set our 'output_mode' to 'int'.\n",
    "# Note that we're using the default split function,\n",
    "# and the custom standardization defined above.\n",
    "# We also set an explicit maximum sequence length, since the CNNs later in our\n",
    "# model won't support ragged sequences.\n",
    "vectorize_layer = TextVectorization(\n",
    "    standardize=custom_standardization,\n",
    "    max_tokens=max_features,\n",
    "    output_mode=\"int\",\n",
    "    output_sequence_length=sequence_length,\n",
    ")\n",
    "\n",
    "# Now that the vocab layer has been created, call `adapt` on a text-only\n",
    "# dataset to create the vocabulary. You don't have to batch, but for very large\n",
    "# datasets this means you're not keeping spare copies of the dataset in memory.\n",
    "\n",
    "print(raw_train_ds.map(lambda x, y: x))\n",
    "print(raw_train_ds)\n",
    "\n",
    "# Let's make a text-only dataset (no labels):\n",
    "text_ds = raw_train_ds.map(lambda x, y: x)\n",
    "# Let's call `adapt`:\n",
    "vectorize_layer.adapt(text_ds)\n",
    "\n",
    "def vectorize_text(text, label):\n",
    "    text = tf.expand_dims(text, -1)\n",
    "    return vectorize_layer(text), label\n",
    "\n"
   ]
  },
  {
   "cell_type": "code",
   "execution_count": null,
   "metadata": {},
   "outputs": [
    {
     "name": "stdout",
     "output_type": "stream",
     "text": [
      "<MapDataset element_spec=TensorSpec(shape=(None,), dtype=tf.string, name=None)>\n"
     ]
    }
   ],
   "source": []
  },
  {
   "cell_type": "code",
   "execution_count": null,
   "metadata": {},
   "outputs": [],
   "source": [
    "#print(raw_train_ds, \"traind_ds \\n\")\n",
    "#print(raw_val_ds, \"val_ds \\n\")\n",
    "#print(raw_test_ds, \"test_ds \\n\")\n",
    "# Vectorize the data.\n",
    "train_ds = raw_train_ds.map(vectorize_text)\n",
    "val_ds = raw_val_ds.map(vectorize_text)\n",
    "test_ds = raw_test_ds.map(vectorize_text)\n",
    "\n",
    "#print(train_ds, \"traind_ds \\n\")\n",
    "#print(val_ds, \"val_ds \\n\")\n",
    "#print(test_ds, \"test_ds \\n\")\n",
    "\n",
    "\n",
    "# Do async prefetching / buffering of the data for best performance on GPU.\n",
    "train_ds = train_ds.cache().prefetch(buffer_size=10)\n",
    "val_ds = val_ds.cache().prefetch(buffer_size=10)\n",
    "test_ds = test_ds.cache().prefetch(buffer_size=10)\n",
    "\n",
    "#print(train_ds, \"traind_ds \\n\")\n",
    "#print(val_ds, \"val_ds \\n\")\n",
    "#print(test_ds, \"test_ds \\n\")"
   ]
  },
  {
   "cell_type": "code",
   "execution_count": null,
   "metadata": {},
   "outputs": [
    {
     "name": "stdout",
     "output_type": "stream",
     "text": [
      "<PrefetchDataset element_spec=(TensorSpec(shape=(None, 500), dtype=tf.int64, name=None), TensorSpec(shape=(None,), dtype=tf.int32, name=None))>\n"
     ]
    }
   ],
   "source": []
  },
  {
   "cell_type": "code",
   "execution_count": null,
   "metadata": {},
   "outputs": [],
   "source": [
    "\n",
    "\n",
    "inputs = tf.keras.Input(shape=(None,), dtype=\"int64\")\n",
    "\n",
    "# Next, we add a layer to map those vocab indices into a space of dimensionality\n",
    "# 'embedding_dim'.\n",
    "x = layers.Embedding(max_features, embedding_dim)(inputs)\n",
    "x = layers.Dropout(0.5)(x)\n",
    "\n",
    "# Conv1D + global max pooling\n",
    "x = layers.Conv1D(128, 7, padding=\"valid\", activation=\"relu\", strides=3)(x)\n",
    "x = layers.Conv1D(128, 7, padding=\"valid\", activation=\"relu\", strides=3)(x)\n",
    "x = layers.GlobalMaxPooling1D()(x)\n",
    "\n",
    "\n",
    "# We add a vanilla hidden layer:\n",
    "x = layers.Dense(128, activation=\"relu\")(x)\n",
    "x = layers.Dropout(0.5)(x)\n",
    "\n",
    "# We project onto a single unit output layer, and squash it with a sigmoid:\n",
    "predictions = layers.Dense(4, activation=\"softmax\", name=\"predictions\")(x)\n",
    "predictions=tf.reshape(predictions, shape=[1,-1])\n",
    "\n",
    "model = tf.keras.Model(inputs, predictions)\n",
    "\n",
    "# Compile the model with binary crossentropy loss and an adam optimizer.\n",
    "model.compile(loss=\"binary_crossentropy\", optimizer=\"adam\", metrics=[\"accuracy\"])\n",
    "#*******************\n",
    "\n"
   ]
  },
  {
   "cell_type": "code",
   "execution_count": null,
   "metadata": {},
   "outputs": [
    {
     "name": "stdout",
     "output_type": "stream",
     "text": [
      "Epoch 1/5\n",
      "1250/1250 [==============================] - 232s 185ms/step - loss: 1.9393 - accuracy: 0.0147 - val_loss: 1.9210 - val_accuracy: 0.0584\n",
      "Epoch 2/5\n",
      "1250/1250 [==============================] - 201s 161ms/step - loss: 1.9392 - accuracy: 0.0959 - val_loss: 1.9210 - val_accuracy: 0.1928\n",
      "Epoch 3/5\n",
      "1250/1250 [==============================] - 200s 160ms/step - loss: 1.9392 - accuracy: 0.1584 - val_loss: 1.9210 - val_accuracy: 0.2100\n",
      "Epoch 4/5\n",
      "1250/1250 [==============================] - 199s 159ms/step - loss: 1.9392 - accuracy: 0.2026 - val_loss: 1.9210 - val_accuracy: 0.2308\n",
      "Epoch 5/5\n",
      "1250/1250 [==============================] - 199s 159ms/step - loss: 1.9392 - accuracy: 0.2293 - val_loss: 1.9210 - val_accuracy: 0.2241\n"
     ]
    },
    {
     "data": {
      "text/plain": [
       "<keras.callbacks.History at 0x225bb0e7d30>"
      ]
     },
     "execution_count": 18,
     "metadata": {},
     "output_type": "execute_result"
    }
   ],
   "source": [
    "epochs = 5\n",
    "\n",
    "# Fit the model using the train and test datasets.\n",
    "model.fit(train_ds, validation_data=val_ds, epochs=epochs)"
   ]
  },
  {
   "cell_type": "code",
   "execution_count": null,
   "metadata": {},
   "outputs": [
    {
     "name": "stdout",
     "output_type": "stream",
     "text": [
      "<BatchDataset element_spec=(TensorSpec(shape=(None,), dtype=tf.string, name=None), TensorSpec(shape=(None,), dtype=tf.int32, name=None))>\n"
     ]
    }
   ],
   "source": []
  },
  {
   "cell_type": "markdown",
   "metadata": {},
   "source": [
    "_____________\n",
    "END TO END POINT\n",
    "_______________"
   ]
  },
  {
   "cell_type": "code",
   "execution_count": null,
   "metadata": {},
   "outputs": [
    {
     "name": "stdout",
     "output_type": "stream",
     "text": [
      "190/190 [==============================] - 6s 31ms/step - loss: 0.7748 - accuracy: 0.1788\n"
     ]
    },
    {
     "data": {
      "text/plain": [
       "[0.7748251557350159, 0.17875432968139648]"
      ]
     },
     "execution_count": 19,
     "metadata": {},
     "output_type": "execute_result"
    }
   ],
   "source": [
    "# A string input\n",
    "inputs = tf.keras.Input(shape=(1,), dtype=\"string\")\n",
    "\n",
    "\n",
    "# Turn strings into vocab indices\n",
    "indices = vectorize_layer(inputs)\n",
    "# Turn vocab indices into predictions\n",
    "outputs = model(indices)\n",
    "\n",
    "# Our end to end model\n",
    "end_to_end_model = tf.keras.Model(inputs, outputs)\n",
    "end_to_end_model.compile(\n",
    "    loss=\"binary_crossentropy\", optimizer=\"adam\", metrics=[\"accuracy\"]\n",
    ")\n",
    "\n",
    "\n",
    "# Test it with `raw_test_ds`, which yields raw strings\n",
    "end_to_end_model.evaluate(raw_test_ds)\n",
    "#print(text_batch.numpy()[1])\n",
    "#end_to_end_model.evaluate(text_batch.numpy()[1],label_batch.numpy()[1])\n",
    "\n"
   ]
  },
  {
   "cell_type": "code",
   "execution_count": null,
   "metadata": {},
   "outputs": [
    {
     "name": "stdout",
     "output_type": "stream",
     "text": [
      "1/1 [==============================] - 0s 185ms/step\n",
      "[[0.24999955 0.24999893 0.2500007  0.2500008 ]]\n",
      "Resultado 1 0.24999955\n",
      "Resultado 2 0.24999893\n",
      "Resultado 3 0.2500007\n",
      "Resultado 4 0.2500008\n"
     ]
    }
   ],
   "source": [
    "\n",
    "#one_hot_word = [tf.keras.preprocessing.text.one_hot(\"perfect\", 50)]\n",
    "#pad_word = tf.keras.preprocessing.sequence.pad_sequences(one_hot_word)\n",
    "#result = model.predict(pad_word)\n",
    "\n",
    "\"\"\"\n",
    "for text_batch, label_batch in test_ex.take(1):\n",
    "    for i in range(0,7):\n",
    "        print(text_batch.numpy()[i])\n",
    "        print(label_batch.numpy()[i])\n",
    "\"\"\"        \n",
    "\n",
    "#len(end_to_end_model.predict(test_ex))\n",
    "#end_to_end_model.predict(test_ex)\n",
    "#*****\n",
    "\n",
    "#****\n",
    "#probabilities = end_to_end_model.predict(\n",
    "#    [[\"Its the better movie that i have seen\"]]\n",
    "#)\n",
    "probabilities = end_to_end_model.predict([input(\"Its the better movie that i have seen\")])\n",
    "print(probabilities)\n",
    "\n",
    "result = probabilities\n",
    "print(\"Resultado 1\", result[0][0])\n",
    "print(\"Resultado 2\", result[0][1])\n",
    "print(\"Resultado 3\", result[0][2])\n",
    "print(\"Resultado 4\", result[0][3])\n",
    "\n",
    "\n"
   ]
  },
  {
   "cell_type": "markdown",
   "metadata": {},
   "source": [
    "_________________________\n",
    "CONVERTIR MODELO A TENSORFLOW\n",
    "________________________________"
   ]
  },
  {
   "cell_type": "code",
   "execution_count": null,
   "metadata": {},
   "outputs": [
    {
     "name": "stdout",
     "output_type": "stream",
     "text": [
      "Epoch 1/5\n",
      "1/1 [==============================] - 1s 689ms/step - loss: 5.9335\n",
      "Epoch 2/5\n",
      "1/1 [==============================] - 0s 11ms/step - loss: 5.4239\n",
      "Epoch 3/5\n",
      "1/1 [==============================] - 0s 10ms/step - loss: 5.0060\n",
      "Epoch 4/5\n",
      "1/1 [==============================] - 0s 10ms/step - loss: 4.6548\n",
      "Epoch 5/5\n",
      "1/1 [==============================] - 0s 37ms/step - loss: 4.3547\n",
      "INFO:tensorflow:Assets written to: C:\\Users\\luis_\\AppData\\Local\\Temp\\tmp_3juyj1s\\assets\n"
     ]
    },
    {
     "name": "stderr",
     "output_type": "stream",
     "text": [
      "INFO:tensorflow:Assets written to: C:\\Users\\luis_\\AppData\\Local\\Temp\\tmp_3juyj1s\\assets\n"
     ]
    },
    {
     "name": "stdout",
     "output_type": "stream",
     "text": [
      "INFO:tensorflow:Assets written to: C:\\Users\\luis_\\OneDrive\\Escritorio\\PT3\\Modelos TensorFlow Elite\\model23.tflite\\assets\n"
     ]
    },
    {
     "name": "stderr",
     "output_type": "stream",
     "text": [
      "INFO:tensorflow:Assets written to: C:\\Users\\luis_\\OneDrive\\Escritorio\\PT3\\Modelos TensorFlow Elite\\model23.tflite\\assets\n"
     ]
    }
   ],
   "source": [
    "# Create a model using high-level tf.keras.* APIs\n",
    "#from tflite_model_maker import ExportFormat\n",
    "#model.save(r'C:\\Users\\luis_\\OneDrive\\Escritorio\\PT3\\Modelos TensorFlow Elite\\model99.tflite')\n",
    "\n",
    "model = tf.keras.models.Sequential([\n",
    "    tf.keras.layers.Dense(units=1, input_shape=[1]),\n",
    "    tf.keras.layers.Dense(units=16, activation='relu'),\n",
    "    tf.keras.layers.Dense(units=1)\n",
    "])\n",
    "model.compile(optimizer='sgd', loss='mean_squared_error') # compile the model= sgd\n",
    "model.fit(x=[-1, 0, 1], y=[-3, -1, 1], epochs=5) # train the model\n",
    "# (to generate a SavedModel) tf.saved_model.save(model, 'model5.tflite')\n",
    "\n",
    "# Convert the model.\n",
    "converter = tf.lite.TFLiteConverter.from_keras_model(model)\n",
    "tflite_model = converter.convert()\n",
    "\n",
    "# Save the model.\n",
    "with open(r'C:\\Users\\luis_\\OneDrive\\Escritorio\\PT3\\Modelos TensorFlow Elite\\model.tflite', 'wb') as f:\n",
    "  f.write(tflite_model)\n",
    "\n",
    "model.save(r'C:\\Users\\luis_\\OneDrive\\Escritorio\\PT3\\Modelos TensorFlow Elite\\model23.tflite')\n",
    "\n",
    "#tf.saved_model.save(model, r'C:\\Users\\luis_\\OneDrive\\Escritorio\\PT3\\Modelos TensorFlow Elite\\model5.tflite')"
   ]
  },
  {
   "cell_type": "code",
   "execution_count": null,
   "metadata": {},
   "outputs": [
    {
     "name": "stdout",
     "output_type": "stream",
     "text": [
      "INFO:tensorflow:Assets written to: C:\\Users\\luis_\\AppData\\Local\\Temp\\tmpxkpvsd0v\\assets\n"
     ]
    },
    {
     "name": "stderr",
     "output_type": "stream",
     "text": [
      "INFO:tensorflow:Assets written to: C:\\Users\\luis_\\AppData\\Local\\Temp\\tmpxkpvsd0v\\assets\n"
     ]
    }
   ],
   "source": [
    "new_model = keras.models.load_model(r'C:\\Users\\luis_\\OneDrive\\Escritorio\\PT3\\Modelos TensorFlow Elite\\model23.tflite')\n",
    "# Convert the model.\n",
    "converter2 = tf.lite.TFLiteConverter.from_keras_model(new_model)\n",
    "tflite_model2 = converter2.convert()\n",
    "\n",
    "# Save the model.\n",
    "with open(r'C:\\Users\\luis_\\OneDrive\\Escritorio\\PT3\\Modelos TensorFlow Elite\\model26.tflite', 'wb') as f:\n",
    "  f.write(tflite_model2)"
   ]
  },
  {
   "cell_type": "code",
   "execution_count": null,
   "metadata": {},
   "outputs": [
    {
     "ename": "AttributeError",
     "evalue": "'Sequential' object has no attribute 'export'",
     "output_type": "error",
     "traceback": [
      "\u001b[1;31m---------------------------------------------------------------------------\u001b[0m",
      "\u001b[1;31mAttributeError\u001b[0m                            Traceback (most recent call last)",
      "\u001b[1;32mc:\\Users\\luis_\\OneDrive\\Escritorio\\PT3\\MODEL_SCRATCH.ipynb Cell 12'\u001b[0m in \u001b[0;36m<cell line: 1>\u001b[1;34m()\u001b[0m\n\u001b[1;32m----> <a href='vscode-notebook-cell:/c%3A/Users/luis_/OneDrive/Escritorio/PT3/MODEL_SCRATCH.ipynb#ch0000011?line=0'>1</a>\u001b[0m model\u001b[39m.\u001b[39;49mexport(export_dir\u001b[39m=\u001b[39m\u001b[39m'\u001b[39m\u001b[39mmobilebert/\u001b[39m\u001b[39m'\u001b[39m)\n",
      "\u001b[1;31mAttributeError\u001b[0m: 'Sequential' object has no attribute 'export'"
     ]
    }
   ],
   "source": [
    "#model.export(export_dir='mobilebert/')\n"
   ]
  }
 ],
 "metadata": {
  "interpreter": {
   "hash": "126c3a0ce2a7a2deaf72b96d74622cd1f78bb27d76940ace510d823b4fb9b229"
  },
  "kernelspec": {
   "display_name": "Python 3.10.4 64-bit",
   "language": "python",
   "name": "python3"
  },
  "language_info": {
   "codemirror_mode": {
    "name": "ipython",
    "version": 3
   },
   "file_extension": ".py",
   "mimetype": "text/x-python",
   "name": "python",
   "nbconvert_exporter": "python",
   "pygments_lexer": "ipython3",
   "version": "3.10.4"
  },
  "orig_nbformat": 4
 },
 "nbformat": 4,
 "nbformat_minor": 2
}
