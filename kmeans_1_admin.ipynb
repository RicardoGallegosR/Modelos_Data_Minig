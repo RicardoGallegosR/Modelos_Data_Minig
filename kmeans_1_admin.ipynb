{
 "cells": [
  {
   "cell_type": "code",
   "execution_count": 134,
   "metadata": {},
   "outputs": [],
   "source": [
    "import pandas as pd\n",
    "from sklearn.feature_extraction import text\n",
    "from sklearn.feature_extraction.text import TfidfVectorizer\n",
    "from nltk.corpus import stopwords\n",
    "from sklearn.cluster import KMeans\n",
    "from matplotlib import pyplot as plt\n",
    "import pickle"
   ]
  },
  {
   "cell_type": "code",
   "execution_count": 135,
   "metadata": {},
   "outputs": [
    {
     "data": {
      "text/html": [
       "<div>\n",
       "<style scoped>\n",
       "    .dataframe tbody tr th:only-of-type {\n",
       "        vertical-align: middle;\n",
       "    }\n",
       "\n",
       "    .dataframe tbody tr th {\n",
       "        vertical-align: top;\n",
       "    }\n",
       "\n",
       "    .dataframe thead th {\n",
       "        text-align: right;\n",
       "    }\n",
       "</style>\n",
       "<table border=\"1\" class=\"dataframe\">\n",
       "  <thead>\n",
       "    <tr style=\"text-align: right;\">\n",
       "      <th></th>\n",
       "      <th>category</th>\n",
       "      <th>label</th>\n",
       "      <th>title</th>\n",
       "      <th>company</th>\n",
       "      <th>profile</th>\n",
       "    </tr>\n",
       "  </thead>\n",
       "  <tbody>\n",
       "    <tr>\n",
       "      <th>0</th>\n",
       "      <td>Administración y gestión de empresas</td>\n",
       "      <td>1</td>\n",
       "      <td>se busca analista de reclutamiento</td>\n",
       "      <td>chazki</td>\n",
       "      <td>procesos de reclutamiento y adquisición de tal...</td>\n",
       "    </tr>\n",
       "    <tr>\n",
       "      <th>1</th>\n",
       "      <td>Administración y gestión de empresas</td>\n",
       "      <td>1</td>\n",
       "      <td>se busca analista de reclutamiento</td>\n",
       "      <td>chazki</td>\n",
       "      <td>procesos de reclutamiento y adquisición de tal...</td>\n",
       "    </tr>\n",
       "    <tr>\n",
       "      <th>2</th>\n",
       "      <td>Administración y gestión de empresas</td>\n",
       "      <td>1</td>\n",
       "      <td>auxiliar de recursos humanos</td>\n",
       "      <td>zen consultores</td>\n",
       "      <td>esta vacante viene de la bolsa de empleo talen...</td>\n",
       "    </tr>\n",
       "  </tbody>\n",
       "</table>\n",
       "</div>"
      ],
      "text/plain": [
       "                               category label  \\\n",
       "0  Administración y gestión de empresas     1   \n",
       "1  Administración y gestión de empresas     1   \n",
       "2  Administración y gestión de empresas     1   \n",
       "\n",
       "                                title          company  \\\n",
       "0  se busca analista de reclutamiento           chazki   \n",
       "1  se busca analista de reclutamiento           chazki   \n",
       "2        auxiliar de recursos humanos  zen consultores   \n",
       "\n",
       "                                             profile  \n",
       "0  procesos de reclutamiento y adquisición de tal...  \n",
       "1  procesos de reclutamiento y adquisición de tal...  \n",
       "2  esta vacante viene de la bolsa de empleo talen...  "
      ]
     },
     "execution_count": 135,
     "metadata": {},
     "output_type": "execute_result"
    }
   ],
   "source": [
    "\n",
    "df = pd.read_csv('../bayes/datos2.csv', delimiter = \";\").astype(str)\n",
    "df.head(3)"
   ]
  },
  {
   "cell_type": "code",
   "execution_count": 136,
   "metadata": {},
   "outputs": [
    {
     "data": {
      "text/html": [
       "<div>\n",
       "<style scoped>\n",
       "    .dataframe tbody tr th:only-of-type {\n",
       "        vertical-align: middle;\n",
       "    }\n",
       "\n",
       "    .dataframe tbody tr th {\n",
       "        vertical-align: top;\n",
       "    }\n",
       "\n",
       "    .dataframe thead th {\n",
       "        text-align: right;\n",
       "    }\n",
       "</style>\n",
       "<table border=\"1\" class=\"dataframe\">\n",
       "  <thead>\n",
       "    <tr style=\"text-align: right;\">\n",
       "      <th></th>\n",
       "      <th>category</th>\n",
       "      <th>profile</th>\n",
       "      <th>category_id</th>\n",
       "    </tr>\n",
       "  </thead>\n",
       "  <tbody>\n",
       "    <tr>\n",
       "      <th>0</th>\n",
       "      <td>Administración y gestión de empresas</td>\n",
       "      <td>procesos de reclutamiento y adquisición de tal...</td>\n",
       "      <td>0</td>\n",
       "    </tr>\n",
       "    <tr>\n",
       "      <th>1</th>\n",
       "      <td>Administración y gestión de empresas</td>\n",
       "      <td>procesos de reclutamiento y adquisición de tal...</td>\n",
       "      <td>0</td>\n",
       "    </tr>\n",
       "    <tr>\n",
       "      <th>2</th>\n",
       "      <td>Administración y gestión de empresas</td>\n",
       "      <td>esta vacante viene de la bolsa de empleo talen...</td>\n",
       "      <td>0</td>\n",
       "    </tr>\n",
       "  </tbody>\n",
       "</table>\n",
       "</div>"
      ],
      "text/plain": [
       "                               category  \\\n",
       "0  Administración y gestión de empresas   \n",
       "1  Administración y gestión de empresas   \n",
       "2  Administración y gestión de empresas   \n",
       "\n",
       "                                             profile  category_id  \n",
       "0  procesos de reclutamiento y adquisición de tal...            0  \n",
       "1  procesos de reclutamiento y adquisición de tal...            0  \n",
       "2  esta vacante viene de la bolsa de empleo talen...            0  "
      ]
     },
     "execution_count": 136,
     "metadata": {},
     "output_type": "execute_result"
    }
   ],
   "source": [
    "col = ['category', 'profile']\n",
    "df = df[col]\n",
    "df = df[pd.notnull(df['profile'])]\n",
    "\n",
    "df.columns = ['category', 'profile']\n",
    "\n",
    "df['category_id'] = df['category'].factorize()[0]\n",
    "\n",
    "category_id_df = df[['category', 'category_id']].drop_duplicates().sort_values('category_id')\n",
    "category_to_id = dict(category_id_df.values)\n",
    "id_to_category = dict(category_id_df[['category_id', 'category']].values)\n",
    "df.head(3)"
   ]
  },
  {
   "cell_type": "markdown",
   "metadata": {},
   "source": [
    "---\n",
    "# Administración de empresas\n",
    "\n",
    "---"
   ]
  },
  {
   "cell_type": "code",
   "execution_count": 137,
   "metadata": {},
   "outputs": [
    {
     "name": "stdout",
     "output_type": "stream",
     "text": [
      "937\n"
     ]
    }
   ],
   "source": [
    "data = df[df.category_id==0]\n",
    "data.head(3)\n",
    "print(len(data))"
   ]
  },
  {
   "cell_type": "markdown",
   "metadata": {},
   "source": [
    "## tfidf"
   ]
  },
  {
   "cell_type": "code",
   "execution_count": 138,
   "metadata": {},
   "outputs": [],
   "source": [
    "my_stop_words = text.ENGLISH_STOP_WORDS.union(stopwords.words('spanish'))\n",
    "tfidf = TfidfVectorizer(sublinear_tf=True, min_df=5, norm='l2', encoding='latin-1', ngram_range=(1, 2), stop_words=my_stop_words)\n",
    "\n",
    "features = tfidf.fit_transform(data.profile).toarray()"
   ]
  },
  {
   "cell_type": "markdown",
   "metadata": {},
   "source": [
    "## MDC"
   ]
  },
  {
   "cell_type": "code",
   "execution_count": 139,
   "metadata": {},
   "outputs": [],
   "source": [
    "sse = []\n",
    "k_rng = range(1,10)\n",
    "for k in k_rng:\n",
    "    km = KMeans(n_clusters=k, max_iter=600,random_state=0, n_init=25, init='k-means++')\n",
    "    km.fit(features)\n",
    "    sse.append(km.inertia_)"
   ]
  },
  {
   "cell_type": "markdown",
   "metadata": {},
   "source": [
    "### Grafico"
   ]
  },
  {
   "cell_type": "code",
   "execution_count": 140,
   "metadata": {},
   "outputs": [
    {
     "data": {
      "image/png": "[encoded data removed]",
      "text/plain": [
       "<Figure size 432x288 with 1 Axes>"
      ]
     },
     "metadata": {
      "needs_background": "light"
     },
     "output_type": "display_data"
    }
   ],
   "source": [
    "plt.rc('font',family='Times New Roman')\n",
    "plt.xlabel('Numero de cluster')\n",
    "plt.ylabel('Suma de cuadrados del error (SCE)')\n",
    "plt.title('Administración de empresas')\n",
    "\n",
    "plt.plot(k_rng,sse,'ro')\n",
    "plt.axvline(x=2,linewidth = 2.5,color='#45858C')\n",
    "plt.axhline(y=862,linewidth = 2.5,color='#45858C')\n",
    "\n",
    "plt.axvline(x=7,linewidth = 2.5,color='#024959')\n",
    "plt.axhline(y=834,linewidth = 2.5,color='#024959')\n",
    "\n",
    "plt.grid(color = '#BF9765', linestyle = '--', linewidth = 0.5)\n",
    "plt.savefig(\"MDC/Metodo_del_codo_administracion_empresas.eps\",format='eps',dpi=1000)\n",
    "plt.savefig(\"MDC/Metodo_del_codo_administracion_empresas.png\")"
   ]
  },
  {
   "cell_type": "markdown",
   "metadata": {},
   "source": [
    "## Model & save"
   ]
  },
  {
   "cell_type": "code",
   "execution_count": 141,
   "metadata": {},
   "outputs": [],
   "source": [
    "# model = KMeans(n_clusters=true_k, init='k-means++', max_iter=600,  random_state=0, n_init=25)\n",
    "# model.fit(features)\n",
    "# pickle.dump(vectorizer, open('kmeans/Vtrasn.pkl','wb'))\n",
    "# pickle.dump(model, open('kmeans/kmeans.pkl','wb'))"
   ]
  },
  {
   "cell_type": "markdown",
   "metadata": {},
   "source": [
    "---\n",
    "# Contabilidad y fiscalización\t\n",
    "\n",
    "---"
   ]
  },
  {
   "cell_type": "code",
   "execution_count": 142,
   "metadata": {},
   "outputs": [
    {
     "name": "stdout",
     "output_type": "stream",
     "text": [
      "1407\n"
     ]
    }
   ],
   "source": [
    "data = df[df.category_id==1]\n",
    "data.head(3)\n",
    "print(len(data))"
   ]
  },
  {
   "cell_type": "code",
   "execution_count": 143,
   "metadata": {},
   "outputs": [],
   "source": [
    "my_stop_words = text.ENGLISH_STOP_WORDS.union(stopwords.words('spanish'))\n",
    "tfidf = TfidfVectorizer(sublinear_tf=True, min_df=5, norm='l2', encoding='latin-1', ngram_range=(1, 2), stop_words=my_stop_words)\n",
    "\n",
    "features = tfidf.fit_transform(data.profile).toarray()"
   ]
  },
  {
   "cell_type": "code",
   "execution_count": 144,
   "metadata": {},
   "outputs": [],
   "source": [
    "sse = []\n",
    "k_rng = range(1,10)\n",
    "for k in k_rng:\n",
    "    km = KMeans(n_clusters=k, max_iter=600,random_state=0, n_init=25, init='k-means++')\n",
    "    km.fit(features)\n",
    "    sse.append(km.inertia_)"
   ]
  },
  {
   "cell_type": "code",
   "execution_count": 145,
   "metadata": {},
   "outputs": [
    {
     "data": {
      "image/png": "[encoded data removed]",
      "text/plain": [
       "<Figure size 432x288 with 1 Axes>"
      ]
     },
     "metadata": {
      "needs_background": "light"
     },
     "output_type": "display_data"
    }
   ],
   "source": [
    "plt.rc('font',family='Times New Roman')\n",
    "plt.xlabel('Numero de cluster')\n",
    "plt.ylabel('Suma de cuadrados del error (SCE)')\n",
    "plt.title('Contabilidad y fiscalización')\n",
    "\n",
    "plt.plot(k_rng,sse,'ro')\n",
    "plt.axvline(x=2,linewidth = 2.5,color='#45858C')\n",
    "plt.axhline(y=1304,linewidth = 2.5,color='#45858C')\n",
    "\n",
    "plt.axvline(x=7,linewidth = 2.5,color='#024959')\n",
    "plt.axhline(y=1269,linewidth = 2.5,color='#024959')\n",
    "\n",
    "plt.grid(color = '#BF9765', linestyle = '--', linewidth = 0.5)\n",
    "plt.savefig(\"MDC/Metodo_del_codo_contabilidad.eps\",format='eps',dpi=1000)\n",
    "plt.savefig(\"MDC/Metodo_del_codo_contabilidad.png\")"
   ]
  },
  {
   "cell_type": "markdown",
   "metadata": {},
   "source": [
    "---\n",
    "# Derecho\n",
    "\n",
    "---"
   ]
  },
  {
   "cell_type": "code",
   "execution_count": 146,
   "metadata": {},
   "outputs": [
    {
     "data": {
      "text/html": [
       "<div>\n",
       "<style scoped>\n",
       "    .dataframe tbody tr th:only-of-type {\n",
       "        vertical-align: middle;\n",
       "    }\n",
       "\n",
       "    .dataframe tbody tr th {\n",
       "        vertical-align: top;\n",
       "    }\n",
       "\n",
       "    .dataframe thead th {\n",
       "        text-align: right;\n",
       "    }\n",
       "</style>\n",
       "<table border=\"1\" class=\"dataframe\">\n",
       "  <thead>\n",
       "    <tr style=\"text-align: right;\">\n",
       "      <th></th>\n",
       "      <th>category</th>\n",
       "      <th>profile</th>\n",
       "      <th>category_id</th>\n",
       "    </tr>\n",
       "  </thead>\n",
       "  <tbody>\n",
       "    <tr>\n",
       "      <th>2344</th>\n",
       "      <td>Derecho</td>\n",
       "      <td>somos una empresa 100% mexicana en el ramo log...</td>\n",
       "      <td>2</td>\n",
       "    </tr>\n",
       "    <tr>\n",
       "      <th>2345</th>\n",
       "      <td>Derecho</td>\n",
       "      <td>castillo márquez &amp; abogados (área de litigio)s...</td>\n",
       "      <td>2</td>\n",
       "    </tr>\n",
       "    <tr>\n",
       "      <th>2346</th>\n",
       "      <td>Derecho</td>\n",
       "      <td>¡únete a nuestro equipo y se parte de este emo...</td>\n",
       "      <td>2</td>\n",
       "    </tr>\n",
       "  </tbody>\n",
       "</table>\n",
       "</div>"
      ],
      "text/plain": [
       "     category                                            profile  category_id\n",
       "2344  Derecho  somos una empresa 100% mexicana en el ramo log...            2\n",
       "2345  Derecho  castillo márquez & abogados (área de litigio)s...            2\n",
       "2346  Derecho  ¡únete a nuestro equipo y se parte de este emo...            2"
      ]
     },
     "execution_count": 146,
     "metadata": {},
     "output_type": "execute_result"
    }
   ],
   "source": [
    "data = df[df.category_id==2]\n",
    "data.head(3)\n",
    "# print(len(data))"
   ]
  },
  {
   "cell_type": "code",
   "execution_count": 147,
   "metadata": {},
   "outputs": [],
   "source": [
    "my_stop_words = text.ENGLISH_STOP_WORDS.union(stopwords.words('spanish'))\n",
    "tfidf = TfidfVectorizer(sublinear_tf=True, min_df=5, norm='l2', encoding='latin-1', ngram_range=(1, 2), stop_words=my_stop_words)\n",
    "\n",
    "features = tfidf.fit_transform(data.profile).toarray()"
   ]
  },
  {
   "cell_type": "code",
   "execution_count": 148,
   "metadata": {},
   "outputs": [],
   "source": [
    "sse = []\n",
    "k_rng = range(1,10)\n",
    "for k in k_rng:\n",
    "    km = KMeans(n_clusters=k, max_iter=600,random_state=0, n_init=25, init='k-means++')\n",
    "    km.fit(features)\n",
    "    sse.append(km.inertia_)"
   ]
  },
  {
   "cell_type": "code",
   "execution_count": 149,
   "metadata": {},
   "outputs": [
    {
     "data": {
      "image/png": "[encoded data removed]",
      "text/plain": [
       "<Figure size 432x288 with 1 Axes>"
      ]
     },
     "metadata": {
      "needs_background": "light"
     },
     "output_type": "display_data"
    }
   ],
   "source": [
    "plt.rc('font',family='Times New Roman')\n",
    "plt.xlabel('Numero de cluster')\n",
    "plt.ylabel('Suma de cuadrados del error (SCE)')\n",
    "plt.title('Derecho')\n",
    "\n",
    "plt.plot(k_rng,sse,'ro')\n",
    "plt.axvline(x=4,linewidth = 2.5,color='#45858C')\n",
    "plt.axhline(y=537,linewidth = 2.5,color='#45858C')\n",
    "\n",
    "plt.axvline(x=7,linewidth = 2.5,color='#024959')\n",
    "plt.axhline(y=504,linewidth = 2.5,color='#024959')\n",
    "\n",
    "plt.grid(color = '#BF9765', linestyle = '--', linewidth = 0.5)\n",
    "plt.savefig(\"MDC/Metodo_del_codo_derecho.eps\",format='eps',dpi=1000)\n",
    "plt.savefig(\"MDC/Metodo_del_codo_derecho.png\")"
   ]
  },
  {
   "cell_type": "markdown",
   "metadata": {},
   "source": [
    "---\n",
    "# Docencia\n",
    "\n",
    "---"
   ]
  },
  {
   "cell_type": "code",
   "execution_count": 150,
   "metadata": {},
   "outputs": [
    {
     "data": {
      "text/html": [
       "<div>\n",
       "<style scoped>\n",
       "    .dataframe tbody tr th:only-of-type {\n",
       "        vertical-align: middle;\n",
       "    }\n",
       "\n",
       "    .dataframe tbody tr th {\n",
       "        vertical-align: top;\n",
       "    }\n",
       "\n",
       "    .dataframe thead th {\n",
       "        text-align: right;\n",
       "    }\n",
       "</style>\n",
       "<table border=\"1\" class=\"dataframe\">\n",
       "  <thead>\n",
       "    <tr style=\"text-align: right;\">\n",
       "      <th></th>\n",
       "      <th>category</th>\n",
       "      <th>profile</th>\n",
       "      <th>category_id</th>\n",
       "    </tr>\n",
       "  </thead>\n",
       "  <tbody>\n",
       "    <tr>\n",
       "      <th>2958</th>\n",
       "      <td>Docencia</td>\n",
       "      <td>coordinador(a) académico nivel secundaria.desc...</td>\n",
       "      <td>3</td>\n",
       "    </tr>\n",
       "    <tr>\n",
       "      <th>2959</th>\n",
       "      <td>Docencia</td>\n",
       "      <td>licenciatura en administración o área a fin (t...</td>\n",
       "      <td>3</td>\n",
       "    </tr>\n",
       "    <tr>\n",
       "      <th>2960</th>\n",
       "      <td>Docencia</td>\n",
       "      <td>licencuatura en educación primaria o alguna de...</td>\n",
       "      <td>3</td>\n",
       "    </tr>\n",
       "  </tbody>\n",
       "</table>\n",
       "</div>"
      ],
      "text/plain": [
       "      category                                            profile  category_id\n",
       "2958  Docencia  coordinador(a) académico nivel secundaria.desc...            3\n",
       "2959  Docencia  licenciatura en administración o área a fin (t...            3\n",
       "2960  Docencia  licencuatura en educación primaria o alguna de...            3"
      ]
     },
     "execution_count": 150,
     "metadata": {},
     "output_type": "execute_result"
    }
   ],
   "source": [
    "data = df[df.category_id==3]\n",
    "data.head(3)\n",
    "# print(len(data))"
   ]
  },
  {
   "cell_type": "code",
   "execution_count": 151,
   "metadata": {},
   "outputs": [],
   "source": [
    "my_stop_words = text.ENGLISH_STOP_WORDS.union(stopwords.words('spanish'))\n",
    "tfidf = TfidfVectorizer(sublinear_tf=True, min_df=5, norm='l2', encoding='latin-1', ngram_range=(1, 2), stop_words=my_stop_words)\n",
    "\n",
    "features = tfidf.fit_transform(data.profile).toarray()"
   ]
  },
  {
   "cell_type": "code",
   "execution_count": 152,
   "metadata": {},
   "outputs": [],
   "source": [
    "sse = []\n",
    "k_rng = range(1,10)\n",
    "for k in k_rng:\n",
    "    km = KMeans(n_clusters=k, max_iter=600,random_state=0, n_init=25, init='k-means++')\n",
    "    km.fit(features)\n",
    "    sse.append(km.inertia_)"
   ]
  },
  {
   "cell_type": "code",
   "execution_count": 153,
   "metadata": {},
   "outputs": [
    {
     "data": {
      "image/png": "[encoded data removed]",
      "text/plain": [
       "<Figure size 432x288 with 1 Axes>"
      ]
     },
     "metadata": {
      "needs_background": "light"
     },
     "output_type": "display_data"
    }
   ],
   "source": [
    "plt.rc('font',family='Times New Roman')\n",
    "plt.xlabel('Numero de cluster')\n",
    "plt.ylabel('Suma de cuadrados del error (SCE)')\n",
    "plt.title('Docencia')\n",
    "\n",
    "plt.plot(k_rng,sse,'ro')\n",
    "plt.axvline(x=5,linewidth = 2.5,color='#45858C')\n",
    "plt.axhline(y=352,linewidth = 2.5,color='#45858C')\n",
    "\n",
    "plt.axvline(x=7,linewidth = 2.5,color='#024959')\n",
    "plt.axhline(y=332,linewidth = 2.5,color='#024959')\n",
    "\n",
    "plt.grid(color = '#BF9765', linestyle = '--', linewidth = 0.5)\n",
    "plt.savefig(\"MDC/Metodo_del_codo_docencia.eps\",format='eps',dpi=1000)\n",
    "plt.savefig(\"MDC/Metodo_del_codo_docencia.png\")"
   ]
  },
  {
   "cell_type": "markdown",
   "metadata": {},
   "source": [
    "---\n",
    "# Tecnologías de la información y la comunicación\n",
    "\n",
    "---"
   ]
  },
  {
   "cell_type": "code",
   "execution_count": 154,
   "metadata": {},
   "outputs": [
    {
     "data": {
      "text/html": [
       "<div>\n",
       "<style scoped>\n",
       "    .dataframe tbody tr th:only-of-type {\n",
       "        vertical-align: middle;\n",
       "    }\n",
       "\n",
       "    .dataframe tbody tr th {\n",
       "        vertical-align: top;\n",
       "    }\n",
       "\n",
       "    .dataframe thead th {\n",
       "        text-align: right;\n",
       "    }\n",
       "</style>\n",
       "<table border=\"1\" class=\"dataframe\">\n",
       "  <thead>\n",
       "    <tr style=\"text-align: right;\">\n",
       "      <th></th>\n",
       "      <th>category</th>\n",
       "      <th>profile</th>\n",
       "      <th>category_id</th>\n",
       "    </tr>\n",
       "  </thead>\n",
       "  <tbody>\n",
       "    <tr>\n",
       "      <th>3409</th>\n",
       "      <td>Tecnologías de la información  y la comunicación</td>\n",
       "      <td>netlogistik es una empresa dedicada a brindar ...</td>\n",
       "      <td>4</td>\n",
       "    </tr>\n",
       "    <tr>\n",
       "      <th>3410</th>\n",
       "      <td>Tecnologías de la información  y la comunicación</td>\n",
       "      <td>en búsqueda de ingeniero de soporte.experienci...</td>\n",
       "      <td>4</td>\n",
       "    </tr>\n",
       "    <tr>\n",
       "      <th>3411</th>\n",
       "      <td>Tecnologías de la información  y la comunicación</td>\n",
       "      <td>por crecimiento buscamosanalista de sistemasre...</td>\n",
       "      <td>4</td>\n",
       "    </tr>\n",
       "  </tbody>\n",
       "</table>\n",
       "</div>"
      ],
      "text/plain": [
       "                                              category  \\\n",
       "3409  Tecnologías de la información  y la comunicación   \n",
       "3410  Tecnologías de la información  y la comunicación   \n",
       "3411  Tecnologías de la información  y la comunicación   \n",
       "\n",
       "                                                profile  category_id  \n",
       "3409  netlogistik es una empresa dedicada a brindar ...            4  \n",
       "3410  en búsqueda de ingeniero de soporte.experienci...            4  \n",
       "3411  por crecimiento buscamosanalista de sistemasre...            4  "
      ]
     },
     "execution_count": 154,
     "metadata": {},
     "output_type": "execute_result"
    }
   ],
   "source": [
    "data = df[df.category_id==4]\n",
    "data.head(3)\n",
    "# print(len(data))"
   ]
  },
  {
   "cell_type": "code",
   "execution_count": 155,
   "metadata": {},
   "outputs": [],
   "source": [
    "my_stop_words = text.ENGLISH_STOP_WORDS.union(stopwords.words('spanish'))\n",
    "tfidf = TfidfVectorizer(sublinear_tf=True, min_df=5, norm='l2', encoding='latin-1', ngram_range=(1, 2), stop_words=my_stop_words)\n",
    "\n",
    "features = tfidf.fit_transform(data.profile).toarray()\n",
    "sse = []\n",
    "k_rng = range(1,10)\n",
    "for k in k_rng:\n",
    "    km = KMeans(n_clusters=k, max_iter=600,random_state=0, n_init=25, init='k-means++')\n",
    "    km.fit(features)\n",
    "    sse.append(km.inertia_)"
   ]
  },
  {
   "cell_type": "code",
   "execution_count": 156,
   "metadata": {},
   "outputs": [
    {
     "data": {
      "image/png": "[encoded data removed]",
      "text/plain": [
       "<Figure size 432x288 with 1 Axes>"
      ]
     },
     "metadata": {
      "needs_background": "light"
     },
     "output_type": "display_data"
    }
   ],
   "source": [
    "plt.rc('font',family='Times New Roman')\n",
    "plt.xlabel('Numero de cluster')\n",
    "plt.ylabel('Suma de cuadrados del error (SCE)')\n",
    "plt.title('Tecnologías de la información y la comunicación')\n",
    "\n",
    "plt.plot(k_rng,sse,'ro')\n",
    "plt.axvline(x=5,linewidth = 2.5,color='#45858C')\n",
    "plt.axhline(y=1361,linewidth = 2.5,color='#45858C')\n",
    "\n",
    "plt.axvline(x=7,linewidth = 2.5,color='#024959')\n",
    "plt.axhline(y=1345,linewidth = 2.5,color='#024959')\n",
    "\n",
    "plt.grid(color = '#BF9765', linestyle = '--', linewidth = 0.5)\n",
    "plt.savefig(\"MDC/Metodo_del_codo_informacion_comunicacion.eps\",format='eps',dpi=1000)\n",
    "plt.savefig(\"MDC/Metodo_del_codo_informacion_comunicacion.png\")"
   ]
  },
  {
   "cell_type": "markdown",
   "metadata": {},
   "source": [
    "---\n",
    "# Ingeniería\n",
    "\n",
    "---"
   ]
  },
  {
   "cell_type": "code",
   "execution_count": 157,
   "metadata": {},
   "outputs": [
    {
     "data": {
      "text/html": [
       "<div>\n",
       "<style scoped>\n",
       "    .dataframe tbody tr th:only-of-type {\n",
       "        vertical-align: middle;\n",
       "    }\n",
       "\n",
       "    .dataframe tbody tr th {\n",
       "        vertical-align: top;\n",
       "    }\n",
       "\n",
       "    .dataframe thead th {\n",
       "        text-align: right;\n",
       "    }\n",
       "</style>\n",
       "<table border=\"1\" class=\"dataframe\">\n",
       "  <thead>\n",
       "    <tr style=\"text-align: right;\">\n",
       "      <th></th>\n",
       "      <th>category</th>\n",
       "      <th>profile</th>\n",
       "      <th>category_id</th>\n",
       "    </tr>\n",
       "  </thead>\n",
       "  <tbody>\n",
       "    <tr>\n",
       "      <th>4565</th>\n",
       "      <td>Ingeniería industrial, mecánica, electrónica &amp;...</td>\n",
       "      <td>estratec, empresa lider en impresion y digital...</td>\n",
       "      <td>5</td>\n",
       "    </tr>\n",
       "    <tr>\n",
       "      <th>4566</th>\n",
       "      <td>Ingeniería industrial, mecánica, electrónica &amp;...</td>\n",
       "      <td>importante agencia de publicidad, con más de 3...</td>\n",
       "      <td>5</td>\n",
       "    </tr>\n",
       "    <tr>\n",
       "      <th>4567</th>\n",
       "      <td>Ingeniería industrial, mecánica, electrónica &amp;...</td>\n",
       "      <td>company descriptionit is an exciting time to j...</td>\n",
       "      <td>5</td>\n",
       "    </tr>\n",
       "  </tbody>\n",
       "</table>\n",
       "</div>"
      ],
      "text/plain": [
       "                                               category  \\\n",
       "4565  Ingeniería industrial, mecánica, electrónica &...   \n",
       "4566  Ingeniería industrial, mecánica, electrónica &...   \n",
       "4567  Ingeniería industrial, mecánica, electrónica &...   \n",
       "\n",
       "                                                profile  category_id  \n",
       "4565  estratec, empresa lider en impresion y digital...            5  \n",
       "4566  importante agencia de publicidad, con más de 3...            5  \n",
       "4567  company descriptionit is an exciting time to j...            5  "
      ]
     },
     "execution_count": 157,
     "metadata": {},
     "output_type": "execute_result"
    }
   ],
   "source": [
    "data = df[df.category_id==5]\n",
    "data.head(3)\n",
    "# print(len(data))"
   ]
  },
  {
   "cell_type": "code",
   "execution_count": 158,
   "metadata": {},
   "outputs": [],
   "source": [
    "my_stop_words = text.ENGLISH_STOP_WORDS.union(stopwords.words('spanish'))\n",
    "tfidf = TfidfVectorizer(sublinear_tf=True, min_df=5, norm='l2', encoding='latin-1', ngram_range=(1, 2), stop_words=my_stop_words)\n",
    "\n",
    "features = tfidf.fit_transform(data.profile).toarray()\n",
    "sse = []\n",
    "k_rng = range(1,10)\n",
    "for k in k_rng:\n",
    "    km = KMeans(n_clusters=k, max_iter=600,random_state=0, n_init=25, init='k-means++')\n",
    "    km.fit(features)\n",
    "    sse.append(km.inertia_)"
   ]
  },
  {
   "cell_type": "code",
   "execution_count": 159,
   "metadata": {},
   "outputs": [
    {
     "data": {
      "image/png": "[encoded data removed]",
      "text/plain": [
       "<Figure size 432x288 with 1 Axes>"
      ]
     },
     "metadata": {
      "needs_background": "light"
     },
     "output_type": "display_data"
    }
   ],
   "source": [
    "plt.rc('font',family='Times New Roman')\n",
    "plt.xlabel('Numero de cluster')\n",
    "plt.ylabel('Suma de cuadrados del error (SCE)')\n",
    "plt.title('Ingeniería')\n",
    "\n",
    "plt.plot(k_rng,sse,'ro')\n",
    "plt.axvline(x=3,linewidth = 2.5,color='#45858C')\n",
    "plt.axhline(y=1236,linewidth = 2.5,color='#45858C')\n",
    "\n",
    "plt.axvline(x=8,linewidth = 2.5,color='#024959')\n",
    "plt.axhline(y=1203,linewidth = 2.5,color='#024959')\n",
    "\n",
    "plt.grid(color = '#BF9765', linestyle = '--', linewidth = 0.5)\n",
    "plt.savefig(\"MDC/Metodo_del_codo_inge.eps\",format='eps',dpi=1000)\n",
    "plt.savefig(\"MDC/Metodo_del_codo_inge.png\")"
   ]
  },
  {
   "cell_type": "markdown",
   "metadata": {},
   "source": [
    "---\n",
    "# Medicina\n",
    "\n",
    "---"
   ]
  },
  {
   "cell_type": "code",
   "execution_count": 160,
   "metadata": {},
   "outputs": [
    {
     "data": {
      "text/html": [
       "<div>\n",
       "<style scoped>\n",
       "    .dataframe tbody tr th:only-of-type {\n",
       "        vertical-align: middle;\n",
       "    }\n",
       "\n",
       "    .dataframe tbody tr th {\n",
       "        vertical-align: top;\n",
       "    }\n",
       "\n",
       "    .dataframe thead th {\n",
       "        text-align: right;\n",
       "    }\n",
       "</style>\n",
       "<table border=\"1\" class=\"dataframe\">\n",
       "  <thead>\n",
       "    <tr style=\"text-align: right;\">\n",
       "      <th></th>\n",
       "      <th>category</th>\n",
       "      <th>profile</th>\n",
       "      <th>category_id</th>\n",
       "    </tr>\n",
       "  </thead>\n",
       "  <tbody>\n",
       "    <tr>\n",
       "      <th>6217</th>\n",
       "      <td>Medicina, médico general, Médico pasante, radi...</td>\n",
       "      <td>ayudante general para estacionameintospara lab...</td>\n",
       "      <td>6</td>\n",
       "    </tr>\n",
       "    <tr>\n",
       "      <th>6218</th>\n",
       "      <td>Medicina, médico general, Médico pasante, radi...</td>\n",
       "      <td>ormco, headquartered in brea, ca, is a global ...</td>\n",
       "      <td>6</td>\n",
       "    </tr>\n",
       "    <tr>\n",
       "      <th>6219</th>\n",
       "      <td>Medicina, médico general, Médico pasante, radi...</td>\n",
       "      <td>importante consultoría dedicada a brindar serv...</td>\n",
       "      <td>6</td>\n",
       "    </tr>\n",
       "  </tbody>\n",
       "</table>\n",
       "</div>"
      ],
      "text/plain": [
       "                                               category  \\\n",
       "6217  Medicina, médico general, Médico pasante, radi...   \n",
       "6218  Medicina, médico general, Médico pasante, radi...   \n",
       "6219  Medicina, médico general, Médico pasante, radi...   \n",
       "\n",
       "                                                profile  category_id  \n",
       "6217  ayudante general para estacionameintospara lab...            6  \n",
       "6218  ormco, headquartered in brea, ca, is a global ...            6  \n",
       "6219  importante consultoría dedicada a brindar serv...            6  "
      ]
     },
     "execution_count": 160,
     "metadata": {},
     "output_type": "execute_result"
    }
   ],
   "source": [
    "data = df[df.category_id==6]\n",
    "data.head(3)\n",
    "# print(len(data))"
   ]
  },
  {
   "cell_type": "code",
   "execution_count": 161,
   "metadata": {},
   "outputs": [],
   "source": [
    "my_stop_words = text.ENGLISH_STOP_WORDS.union(stopwords.words('spanish'))\n",
    "tfidf = TfidfVectorizer(sublinear_tf=True, min_df=5, norm='l2', encoding='latin-1', ngram_range=(1, 2), stop_words=my_stop_words)\n",
    "\n",
    "features = tfidf.fit_transform(data.profile).toarray()\n",
    "sse = []\n",
    "k_rng = range(1,15)\n",
    "for k in k_rng:\n",
    "    km = KMeans(n_clusters=k, max_iter=600,random_state=0, n_init=25, init='k-means++')\n",
    "    km.fit(features)\n",
    "    sse.append(km.inertia_)"
   ]
  },
  {
   "cell_type": "code",
   "execution_count": 162,
   "metadata": {},
   "outputs": [
    {
     "data": {
      "image/png": "[encoded data removed]",
      "text/plain": [
       "<Figure size 432x288 with 1 Axes>"
      ]
     },
     "metadata": {
      "needs_background": "light"
     },
     "output_type": "display_data"
    }
   ],
   "source": [
    "plt.rc('font',family='Times New Roman')\n",
    "plt.xlabel('Numero de cluster')\n",
    "plt.ylabel('Suma de cuadrados del error (SCE)')\n",
    "plt.title('Medicina')\n",
    "\n",
    "plt.plot(k_rng,sse,'ro')\n",
    "plt.axvline(x=3,linewidth = 2.5,color='#45858C')\n",
    "plt.axhline(y=638,linewidth = 2.5,color='#45858C')\n",
    "\n",
    "plt.axvline(x=12,linewidth = 2.5,color='#024959')\n",
    "plt.axhline(y=585,linewidth = 2.5,color='#024959')\n",
    "\n",
    "plt.grid(color = '#BF9765', linestyle = '--', linewidth = 0.5)\n",
    "plt.savefig(\"MDC/Metodo_del_codo_medicina.eps\",format='eps',dpi=1000)\n",
    "plt.savefig(\"MDC/Metodo_del_codo_medicina.png\")"
   ]
  },
  {
   "cell_type": "markdown",
   "metadata": {},
   "source": [
    "---\n",
    "# Enfermería\n",
    "\n",
    "---"
   ]
  },
  {
   "cell_type": "code",
   "execution_count": 163,
   "metadata": {},
   "outputs": [
    {
     "data": {
      "text/html": [
       "<div>\n",
       "<style scoped>\n",
       "    .dataframe tbody tr th:only-of-type {\n",
       "        vertical-align: middle;\n",
       "    }\n",
       "\n",
       "    .dataframe tbody tr th {\n",
       "        vertical-align: top;\n",
       "    }\n",
       "\n",
       "    .dataframe thead th {\n",
       "        text-align: right;\n",
       "    }\n",
       "</style>\n",
       "<table border=\"1\" class=\"dataframe\">\n",
       "  <thead>\n",
       "    <tr style=\"text-align: right;\">\n",
       "      <th></th>\n",
       "      <th>category</th>\n",
       "      <th>profile</th>\n",
       "      <th>category_id</th>\n",
       "    </tr>\n",
       "  </thead>\n",
       "  <tbody>\n",
       "    <tr>\n",
       "      <th>6931</th>\n",
       "      <td>Enfermería</td>\n",
       "      <td>estoy buscando auxiliar de enfermería:principa...</td>\n",
       "      <td>7</td>\n",
       "    </tr>\n",
       "    <tr>\n",
       "      <th>7699</th>\n",
       "      <td>Enfermería</td>\n",
       "      <td>estoy buscando auxiliar de enfermería:principa...</td>\n",
       "      <td>7</td>\n",
       "    </tr>\n",
       "    <tr>\n",
       "      <th>7700</th>\n",
       "      <td>Enfermería</td>\n",
       "      <td>-descripción del empleoen sohin buscamos verda...</td>\n",
       "      <td>7</td>\n",
       "    </tr>\n",
       "  </tbody>\n",
       "</table>\n",
       "</div>"
      ],
      "text/plain": [
       "        category                                            profile  \\\n",
       "6931  Enfermería  estoy buscando auxiliar de enfermería:principa...   \n",
       "7699  Enfermería  estoy buscando auxiliar de enfermería:principa...   \n",
       "7700  Enfermería  -descripción del empleoen sohin buscamos verda...   \n",
       "\n",
       "      category_id  \n",
       "6931            7  \n",
       "7699            7  \n",
       "7700            7  "
      ]
     },
     "execution_count": 163,
     "metadata": {},
     "output_type": "execute_result"
    }
   ],
   "source": [
    "data = df[df.category_id==7]\n",
    "data.head(3)\n",
    "# print(len(data))"
   ]
  },
  {
   "cell_type": "code",
   "execution_count": 164,
   "metadata": {},
   "outputs": [],
   "source": [
    "my_stop_words = text.ENGLISH_STOP_WORDS.union(stopwords.words('spanish'))\n",
    "tfidf = TfidfVectorizer(sublinear_tf=True, min_df=5, norm='l2', encoding='latin-1', ngram_range=(1, 2), stop_words=my_stop_words)\n",
    "\n",
    "features = tfidf.fit_transform(data.profile).toarray()\n",
    "sse = []\n",
    "k_rng = range(1,10)\n",
    "for k in k_rng:\n",
    "    km = KMeans(n_clusters=k, max_iter=600,random_state=0, n_init=25, init='k-means++')\n",
    "    km.fit(features)\n",
    "    sse.append(km.inertia_)"
   ]
  },
  {
   "cell_type": "code",
   "execution_count": 165,
   "metadata": {},
   "outputs": [
    {
     "data": {
      "image/png": "[encoded data removed]",
      "text/plain": [
       "<Figure size 432x288 with 1 Axes>"
      ]
     },
     "metadata": {
      "needs_background": "light"
     },
     "output_type": "display_data"
    }
   ],
   "source": [
    "plt.rc('font',family='Times New Roman')\n",
    "plt.xlabel('Numero de cluster')\n",
    "plt.ylabel('Suma de cuadrados del error (SCE)')\n",
    "plt.title('Enfermería')\n",
    "\n",
    "plt.plot(k_rng,sse,'ro')\n",
    "plt.axvline(x=3,linewidth = 2.5,color='#45858C')\n",
    "plt.axhline(y=303,linewidth = 2.5,color='#45858C')\n",
    "\n",
    "plt.axvline(x=8,linewidth = 2.5,color='#024959')\n",
    "plt.axhline(y=281,linewidth = 2.5,color='#024959')\n",
    "\n",
    "plt.grid(color = '#BF9765', linestyle = '--', linewidth = 0.5)\n",
    "plt.savefig(\"MDC/Metodo_del_codo_enfermeria.eps\",format='eps',dpi=1000)\n",
    "plt.savefig(\"MDC/Metodo_del_codo_enfermeria.png\")"
   ]
  },
  {
   "cell_type": "markdown",
   "metadata": {},
   "source": [
    "---\n",
    "# Psicología\n",
    "\n",
    "---"
   ]
  },
  {
   "cell_type": "code",
   "execution_count": 166,
   "metadata": {},
   "outputs": [
    {
     "data": {
      "text/html": [
       "<div>\n",
       "<style scoped>\n",
       "    .dataframe tbody tr th:only-of-type {\n",
       "        vertical-align: middle;\n",
       "    }\n",
       "\n",
       "    .dataframe tbody tr th {\n",
       "        vertical-align: top;\n",
       "    }\n",
       "\n",
       "    .dataframe thead th {\n",
       "        text-align: right;\n",
       "    }\n",
       "</style>\n",
       "<table border=\"1\" class=\"dataframe\">\n",
       "  <thead>\n",
       "    <tr style=\"text-align: right;\">\n",
       "      <th></th>\n",
       "      <th>category</th>\n",
       "      <th>profile</th>\n",
       "      <th>category_id</th>\n",
       "    </tr>\n",
       "  </thead>\n",
       "  <tbody>\n",
       "    <tr>\n",
       "      <th>6932</th>\n",
       "      <td>Psicología</td>\n",
       "      <td>totalplay telecomunicaciones ( grupo salinas) ...</td>\n",
       "      <td>8</td>\n",
       "    </tr>\n",
       "    <tr>\n",
       "      <th>6933</th>\n",
       "      <td>Psicología</td>\n",
       "      <td>¡únete a nuestro equipo!en randstad ayudamos a...</td>\n",
       "      <td>8</td>\n",
       "    </tr>\n",
       "    <tr>\n",
       "      <th>6934</th>\n",
       "      <td>Psicología</td>\n",
       "      <td>posting date apr 26, 2022  job number 22067345...</td>\n",
       "      <td>8</td>\n",
       "    </tr>\n",
       "  </tbody>\n",
       "</table>\n",
       "</div>"
      ],
      "text/plain": [
       "        category                                            profile  \\\n",
       "6932  Psicología  totalplay telecomunicaciones ( grupo salinas) ...   \n",
       "6933  Psicología  ¡únete a nuestro equipo!en randstad ayudamos a...   \n",
       "6934  Psicología  posting date apr 26, 2022  job number 22067345...   \n",
       "\n",
       "      category_id  \n",
       "6932            8  \n",
       "6933            8  \n",
       "6934            8  "
      ]
     },
     "execution_count": 166,
     "metadata": {},
     "output_type": "execute_result"
    }
   ],
   "source": [
    "data = df[df.category_id==8]\n",
    "data.head(3)\n",
    "# print(len(data))"
   ]
  },
  {
   "cell_type": "code",
   "execution_count": 167,
   "metadata": {},
   "outputs": [],
   "source": [
    "my_stop_words = text.ENGLISH_STOP_WORDS.union(stopwords.words('spanish'))\n",
    "tfidf = TfidfVectorizer(sublinear_tf=True, min_df=5, norm='l2', encoding='latin-1', ngram_range=(1, 2), stop_words=my_stop_words)\n",
    "\n",
    "features = tfidf.fit_transform(data.profile).toarray()\n",
    "sse = []\n",
    "k_rng = range(1,10)\n",
    "for k in k_rng:\n",
    "    km = KMeans(n_clusters=k, max_iter=600,random_state=0, n_init=25, init='k-means++')\n",
    "    km.fit(features)\n",
    "    sse.append(km.inertia_)"
   ]
  },
  {
   "cell_type": "code",
   "execution_count": 168,
   "metadata": {},
   "outputs": [
    {
     "data": {
      "image/png": "[encoded data removed]",
      "text/plain": [
       "<Figure size 432x288 with 1 Axes>"
      ]
     },
     "metadata": {
      "needs_background": "light"
     },
     "output_type": "display_data"
    }
   ],
   "source": [
    "plt.rc('font',family='Times New Roman')\n",
    "plt.xlabel('Numero de cluster')\n",
    "plt.ylabel('Suma de cuadrados del error (SCE)')\n",
    "plt.title('Psicología')\n",
    "\n",
    "plt.plot(k_rng,sse,'ro')\n",
    "plt.axvline(x=3,linewidth = 2.5,color='#45858C')\n",
    "plt.axhline(y=757,linewidth = 2.5,color='#45858C')\n",
    "\n",
    "plt.axvline(x=6,linewidth = 2.5,color='#024959')\n",
    "plt.axhline(y=737.5,linewidth = 2.5,color='#024959')\n",
    "\n",
    "plt.grid(color = '#BF9765', linestyle = '--', linewidth = 0.5)\n",
    "plt.savefig(\"MDC/Metodo_del_codo_psicologia.eps\",format='eps',dpi=1000)\n",
    "plt.savefig(\"MDC/Metodo_del_codo_psicologia.png\")"
   ]
  },
  {
   "cell_type": "markdown",
   "metadata": {},
   "source": [
    "---\n",
    "# Ciencias de la computación\n",
    "\n",
    "---"
   ]
  },
  {
   "cell_type": "code",
   "execution_count": 169,
   "metadata": {},
   "outputs": [
    {
     "data": {
      "text/html": [
       "<div>\n",
       "<style scoped>\n",
       "    .dataframe tbody tr th:only-of-type {\n",
       "        vertical-align: middle;\n",
       "    }\n",
       "\n",
       "    .dataframe tbody tr th {\n",
       "        vertical-align: top;\n",
       "    }\n",
       "\n",
       "    .dataframe thead th {\n",
       "        text-align: right;\n",
       "    }\n",
       "</style>\n",
       "<table border=\"1\" class=\"dataframe\">\n",
       "  <thead>\n",
       "    <tr style=\"text-align: right;\">\n",
       "      <th></th>\n",
       "      <th>category</th>\n",
       "      <th>profile</th>\n",
       "      <th>category_id</th>\n",
       "    </tr>\n",
       "  </thead>\n",
       "  <tbody>\n",
       "    <tr>\n",
       "      <th>7012</th>\n",
       "      <td>Ciencias de la computación</td>\n",
       "      <td>empresa de seguridad privada solicita analista...</td>\n",
       "      <td>9</td>\n",
       "    </tr>\n",
       "    <tr>\n",
       "      <th>7013</th>\n",
       "      <td>Ciencias de la computación</td>\n",
       "      <td>para todos nuestros clientes hemos sido un ali...</td>\n",
       "      <td>9</td>\n",
       "    </tr>\n",
       "    <tr>\n",
       "      <th>7014</th>\n",
       "      <td>Ciencias de la computación</td>\n",
       "      <td>ingeniero junior de soporte técnico y soporte ...</td>\n",
       "      <td>9</td>\n",
       "    </tr>\n",
       "  </tbody>\n",
       "</table>\n",
       "</div>"
      ],
      "text/plain": [
       "                        category  \\\n",
       "7012  Ciencias de la computación   \n",
       "7013  Ciencias de la computación   \n",
       "7014  Ciencias de la computación   \n",
       "\n",
       "                                                profile  category_id  \n",
       "7012  empresa de seguridad privada solicita analista...            9  \n",
       "7013  para todos nuestros clientes hemos sido un ali...            9  \n",
       "7014  ingeniero junior de soporte técnico y soporte ...            9  "
      ]
     },
     "execution_count": 169,
     "metadata": {},
     "output_type": "execute_result"
    }
   ],
   "source": [
    "data = df[df.category_id==9]\n",
    "data.head(3)\n",
    "# print(len(data))"
   ]
  },
  {
   "cell_type": "code",
   "execution_count": 170,
   "metadata": {},
   "outputs": [],
   "source": [
    "my_stop_words = text.ENGLISH_STOP_WORDS.union(stopwords.words('spanish'))\n",
    "tfidf = TfidfVectorizer(sublinear_tf=True, min_df=5, norm='l2', encoding='latin-1', ngram_range=(1, 2), stop_words=my_stop_words)\n",
    "\n",
    "features = tfidf.fit_transform(data.profile).toarray()\n",
    "sse = []\n",
    "k_rng = range(1,10)\n",
    "for k in k_rng:\n",
    "    km = KMeans(n_clusters=k, max_iter=600,random_state=0, n_init=25, init='k-means++')\n",
    "    km.fit(features)\n",
    "    sse.append(km.inertia_)"
   ]
  },
  {
   "cell_type": "code",
   "execution_count": 171,
   "metadata": {},
   "outputs": [
    {
     "data": {
      "image/png": "[encoded data removed]",
      "text/plain": [
       "<Figure size 432x288 with 1 Axes>"
      ]
     },
     "metadata": {
      "needs_background": "light"
     },
     "output_type": "display_data"
    }
   ],
   "source": [
    "plt.rc('font',family='Times New Roman')\n",
    "plt.xlabel('Numero de cluster')\n",
    "plt.ylabel('Suma de cuadrados del error (SCE)')\n",
    "plt.title('Ciencias de la computación')\n",
    "\n",
    "plt.plot(k_rng,sse,'ro')\n",
    "plt.axvline(x=2,linewidth = 2.5,color='#45858C')\n",
    "plt.axhline(y=77.5,linewidth = 2.5,color='#45858C')\n",
    "\n",
    "plt.axvline(x=5,linewidth = 2.5,color='#024959')\n",
    "plt.axhline(y=68.2,linewidth = 2.5,color='#024959')\n",
    "\n",
    "plt.grid(color = '#BF9765', linestyle = '--', linewidth = 0.5)\n",
    "plt.savefig(\"MDC/Metodo_del_codo_cc.eps\",format='eps',dpi=1000)\n",
    "plt.savefig(\"MDC/Metodo_del_codo_cc.png\")"
   ]
  },
  {
   "cell_type": "markdown",
   "metadata": {},
   "source": [
    "---\n",
    "# Ayudante General\n",
    "\n",
    "---"
   ]
  },
  {
   "cell_type": "code",
   "execution_count": 172,
   "metadata": {},
   "outputs": [
    {
     "data": {
      "text/html": [
       "<div>\n",
       "<style scoped>\n",
       "    .dataframe tbody tr th:only-of-type {\n",
       "        vertical-align: middle;\n",
       "    }\n",
       "\n",
       "    .dataframe tbody tr th {\n",
       "        vertical-align: top;\n",
       "    }\n",
       "\n",
       "    .dataframe thead th {\n",
       "        text-align: right;\n",
       "    }\n",
       "</style>\n",
       "<table border=\"1\" class=\"dataframe\">\n",
       "  <thead>\n",
       "    <tr style=\"text-align: right;\">\n",
       "      <th></th>\n",
       "      <th>category</th>\n",
       "      <th>profile</th>\n",
       "      <th>category_id</th>\n",
       "    </tr>\n",
       "  </thead>\n",
       "  <tbody>\n",
       "    <tr>\n",
       "      <th>7111</th>\n",
       "      <td>Ayudante General</td>\n",
       "      <td>somos el primer supermercado mexicano sin tien...</td>\n",
       "      <td>10</td>\n",
       "    </tr>\n",
       "    <tr>\n",
       "      <th>7112</th>\n",
       "      <td>Ayudante General</td>\n",
       "      <td>\"el almacén sólo es el puente para poder llega...</td>\n",
       "      <td>10</td>\n",
       "    </tr>\n",
       "    <tr>\n",
       "      <th>7113</th>\n",
       "      <td>Ayudante General</td>\n",
       "      <td>ayudantes generalesedad: 18 años en adelanteex...</td>\n",
       "      <td>10</td>\n",
       "    </tr>\n",
       "  </tbody>\n",
       "</table>\n",
       "</div>"
      ],
      "text/plain": [
       "              category                                            profile  \\\n",
       "7111  Ayudante General  somos el primer supermercado mexicano sin tien...   \n",
       "7112  Ayudante General  \"el almacén sólo es el puente para poder llega...   \n",
       "7113  Ayudante General  ayudantes generalesedad: 18 años en adelanteex...   \n",
       "\n",
       "      category_id  \n",
       "7111           10  \n",
       "7112           10  \n",
       "7113           10  "
      ]
     },
     "execution_count": 172,
     "metadata": {},
     "output_type": "execute_result"
    }
   ],
   "source": [
    "data = df[df.category_id==10]\n",
    "data.head(3)\n",
    "# print(len(data))"
   ]
  },
  {
   "cell_type": "code",
   "execution_count": 173,
   "metadata": {},
   "outputs": [],
   "source": [
    "my_stop_words = text.ENGLISH_STOP_WORDS.union(stopwords.words('spanish'))\n",
    "tfidf = TfidfVectorizer(sublinear_tf=True, min_df=5, norm='l2', encoding='latin-1', ngram_range=(1, 2), stop_words=my_stop_words)\n",
    "\n",
    "features = tfidf.fit_transform(data.profile).toarray()\n",
    "sse = []\n",
    "k_rng = range(1,10)\n",
    "for k in k_rng:\n",
    "    km = KMeans(n_clusters=k, max_iter=600,random_state=0, n_init=25, init='k-means++')\n",
    "    km.fit(features)\n",
    "    sse.append(km.inertia_)"
   ]
  },
  {
   "cell_type": "code",
   "execution_count": 174,
   "metadata": {},
   "outputs": [
    {
     "data": {
      "image/png": "[encoded data removed]",
      "text/plain": [
       "<Figure size 432x288 with 1 Axes>"
      ]
     },
     "metadata": {
      "needs_background": "light"
     },
     "output_type": "display_data"
    }
   ],
   "source": [
    "plt.rc('font',family='Times New Roman')\n",
    "plt.xlabel('Numero de cluster')\n",
    "plt.ylabel('Suma de cuadrados del error (SCE)')\n",
    "plt.title('Ayudante General')\n",
    "\n",
    "plt.plot(k_rng,sse,'ro')\n",
    "plt.axvline(x=2,linewidth = 2.5,color='#45858C')\n",
    "plt.axhline(y=871.5,linewidth = 2.5,color='#45858C')\n",
    "\n",
    "plt.axvline(x=5,linewidth = 2.5,color='#024959')\n",
    "plt.axhline(y=851.5,linewidth = 2.5,color='#024959')\n",
    "\n",
    "plt.grid(color = '#BF9765', linestyle = '--', linewidth = 0.5)\n",
    "plt.savefig(\"MDC/Metodo_del_codo_ayudante_general.eps\",format='eps',dpi=1000)\n",
    "plt.savefig(\"MDC/Metodo_del_codo_ayudante_general.png\")"
   ]
  }
 ],
 "metadata": {
  "interpreter": {
   "hash": "f70c1e2fb12efbb75f4672ba1915fe938ef6bbf49e61743293f7740cd33511b7"
  },
  "kernelspec": {
   "display_name": "Python 3.10.1 64-bit",
   "language": "python",
   "name": "python3"
  },
  "language_info": {
   "codemirror_mode": {
    "name": "ipython",
    "version": 3
   },
   "file_extension": ".py",
   "mimetype": "text/x-python",
   "name": "python",
   "nbconvert_exporter": "python",
   "pygments_lexer": "ipython3",
   "version": "3.10.1"
  },
  "orig_nbformat": 4
 },
 "nbformat": 4,
 "nbformat_minor": 2
}
