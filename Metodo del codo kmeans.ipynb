{
 "cells": [
  {
   "cell_type": "markdown",
   "metadata": {},
   "source": [
    "---\n",
    "Lectura de librerias y archivos\n",
    "---\n",
    "\n",
    "---"
   ]
  },
  {
   "cell_type": "code",
   "execution_count": 1,
   "metadata": {},
   "outputs": [],
   "source": [
    "import pandas as pd\n",
    "from locale import normalize\n",
    "from nltk.corpus import stopwords\n",
    "from nltk.corpus import stopwords\n",
    "from nltk.tokenize import word_tokenize\n",
    "\n",
    "def clear_(stop_words, words_):\n",
    "    words = word_tokenize(words_)\n",
    "    a  = []\n",
    "    for r in words:\n",
    "        if not r in (stop_words):\n",
    "            if(len(r) > 2):\n",
    "                a.append(normalize(r))\n",
    "    return \" \".join(map(str,a))\n",
    "\n",
    "stop_words = set(stopwords.words(\"english\"))\n",
    "stop_words.add('null')\n",
    "stop_words.add('nan')\n"
   ]
  },
  {
   "cell_type": "markdown",
   "metadata": {},
   "source": [
    "___\n",
    "__Limpieza de datos__\n",
    "___"
   ]
  },
  {
   "cell_type": "code",
   "execution_count": 3,
   "metadata": {},
   "outputs": [],
   "source": [
    "f = pd.read_csv(\"../CSV/persona.csv\", delimiter = \";\").astype(str)\n",
    "vect = []\n",
    "for i in range(0,len(f)):\n",
    "    if (f[\"summary\"][i]!=\"nan\"):\n",
    "        vect.append(f[\"summary\"][i].lower().replace('ã','a').replace('á','a')\n",
    "        .replace('ä','a').replace('é','e').replace('®','').replace('•','*'))"
   ]
  },
  {
   "cell_type": "code",
   "execution_count": 4,
   "metadata": {},
   "outputs": [
    {
     "name": "stdout",
     "output_type": "stream",
     "text": [
      "['a', \"isn't\", 'above', 'most', \"you'd\", 'doesn', \"wasn't\", 'it', 'up', 'don', 'shan', 'each', \"weren't\", 'with', 'm', 'there', 'was', 'mustn', 'is', 'ours', 'now', 'couldn', 's', 'she', 'you', \"shouldn't\", \"you'll\", 'yourself', 'while', 'we', 'more', 'myself', 'whom', 'needn', 'won', 'own', 'if', 'than', 'does', 'through', \"aren't\", 'isn', 'an', 'at', 'being', 'had', 'herself', 'o', 'but', 'll', 'ma', 'once', 'of', 'too', 'few', 'no', \"mightn't\", 'until', 'the', 'down', 'been', 'hadn', 'theirs', 'him', 'only', 'and', 'he', 'can', 'to', 'under', 'having', 'weren', 'same', 'her', 'here', 'yours', \"hadn't\", 'have', 'just', 'null', 'over', \"haven't\", \"should've\", 'why', 'after', \"won't\", 'from', \"you're\", 'shouldn', 'himself', 'd', 'other', 'yourselves', 've', 'when', 'all', 't', 'on', 'who', 'should', 'i', 'didn', 'be', 'has', 'so', 'between', \"you've\", 'below', 'me', 'doing', \"that'll\", \"don't\", 'ain', 'wasn', 'into', 'not', 'again', 'aren', 'what', \"hasn't\", 'both', \"didn't\", 'haven', 'any', \"mustn't\", 'this', 'mightn', 'am', 'my', 'his', 'how', 'hasn', 'were', 'those', 'by', 'which', 'out', 'your', 'our', \"wouldn't\", 'further', 'such', 'hers', \"couldn't\", 'they', 'or', 'in', 'are', 'themselves', 'its', 'nor', 'ourselves', 'off', \"needn't\", \"she's\", 'then', 'wouldn', \"doesn't\", 'some', 're', 'y', \"shan't\", 'itself', 'did', 'nan', 'because', 'as', 'these', 'their', 'before', 'that', 'against', 'about', 'very', 'during', 'for', 'will', \"it's\", 'them', 'do', 'where']\n",
      "['senior manager with experience on leading teams to develop continuous improvement strategies for manufacturing processes delivering excellent cost savings i am also specialist on implementing progressive maintenance program', ' ', \"valuation services over ten years of experience in tangible assets valuation services at deloitte and kpmg for diverse areas including industrial automotive glass metal foods beverages pharmaceutical oil and gas energy entertainment healthcare extractive telecommunications commercial office and residential valuation experience for assurance fiscal and accounting purposes such as ppa ifrs sfas etc automotive industry experience for 2 years at ti automotive and martinrea developments in toolroom maintenance and projects areas education and certifications mexican federal certified appraiser in machinery and equipment real property business and rural specialties master's degree in valuation bachelor of science bs mechatronic engineering associate of science as digital systems\"]\n"
     ]
    }
   ],
   "source": [
    "print(list(stop_words))\n",
    "print(vect[0:3])\n"
   ]
  },
  {
   "cell_type": "code",
   "execution_count": 5,
   "metadata": {},
   "outputs": [],
   "source": [
    "b = []\n",
    "for i in range(0,len(vect)):\n",
    "    a =  clear_(stop_words,vect[i])\n",
    "    b.append(a)"
   ]
  },
  {
   "cell_type": "code",
   "execution_count": 6,
   "metadata": {},
   "outputs": [
    {
     "name": "stdout",
     "output_type": "stream",
     "text": [
      "['senior manager experience leading teams develop continuous improvement strategies manufacturing processes delivering excellent cost savings also specialist implementing progressive maintenance program', '', 'valuation services ten years experience tangible assets valuation services deloitte kpmg diverse areas including industrial automotive glass metal foods beverages pharmaceutical oil gas energy entertainment healthcare extractive telecommunications commercial office residential valuation experience assurance fiscal accounting purposes ppa ifrs sfas etc automotive industry experience years automotive martinrea developments toolroom maintenance projects areas education certifications mexican federal certified appraiser machinery equipment real property business rural specialties master degree valuation bachelor science mechatronic engineering associate science digital systems', 'dedicated focused solutions dreamer passionate forensic computing big data cellular communications internet protocols unified communications classical cars charger 1968 frank sinatra hobby comedy videogames football django python rest android java nodejs grunt rds ec2 saas cpaas pbx sbc voip sip scrum kanban', '']\n"
     ]
    }
   ],
   "source": [
    "print(b[0:5])"
   ]
  },
  {
   "cell_type": "markdown",
   "metadata": {},
   "source": [
    "___\n",
    "__Guardar los nuevos datos limpios__\n",
    "___"
   ]
  },
  {
   "cell_type": "code",
   "execution_count": 7,
   "metadata": {},
   "outputs": [],
   "source": [
    "datas = pd.DataFrame(b)\n",
    "datas.to_csv(\"../CSV/persona2.csv\",columns=None,index=None)"
   ]
  },
  {
   "cell_type": "markdown",
   "metadata": {},
   "source": [
    "---\n",
    "__Lectura de los datos limpios__\n",
    "---\n",
    "\n",
    "---"
   ]
  },
  {
   "cell_type": "code",
   "execution_count": 1,
   "metadata": {},
   "outputs": [],
   "source": [
    "import pandas as pd\n",
    "from sklearn.feature_extraction.text import TfidfVectorizer\n",
    "from sklearn.feature_extraction.text import CountVectorizer\n",
    "\n",
    "\n",
    "a = pd.read_csv(\"../CSV/persona2.csv\", delimiter = \";\").astype(str)\n",
    "data = []\n",
    "for i in range(0,len(a)):\n",
    "    if a[\"0\"][i] == 'nan':\n",
    "        continue\n",
    "        #data.append('null')\n",
    "    else:    \n",
    "        data.append(a[\"0\"][i])\n",
    "\n",
    "\n"
   ]
  },
  {
   "cell_type": "code",
   "execution_count": 2,
   "metadata": {},
   "outputs": [],
   "source": [
    "a = pd.read_csv(\"../CSV/job.csv\", delimiter = \";\").astype(str)\n",
    "data2 = []\n",
    "for i in range(0,len(a)):\n",
    "    data2.append([])\n",
    "    if a[\"organization_1\"][i] == 'nan':\n",
    "        continue\n",
    "        #data2.append('null')\n",
    "    else:    \n",
    "        data2[i].append(a[\"organization_1\"][i])\n",
    "        data2[i].append(a[\"organization_2\"][i])\n",
    "        data2[i].append(a[\"organization_3\"][i])\n",
    "        data2[i].append(a[\"organization_4\"][i])\n",
    "        data2[i].append(a[\"organization_5\"][i])\n",
    "        data2[i].append(a[\"organization_6\"][i])\n",
    "        data2[i].append(a[\"organization_7\"][i])\n",
    "        data2[i].append(a[\"organization_8\"][i])\n",
    "        data2[i].append(a[\"organization_9\"][i])\n",
    "        data2[i].append(a[\"organization_10\"][i])\n",
    "        \n"
   ]
  },
  {
   "cell_type": "code",
   "execution_count": 5,
   "metadata": {},
   "outputs": [
    {
     "name": "stdout",
     "output_type": "stream",
     "text": [
      "['senior manager experience leading teams develop continuous improvement strategies manufacturing processes delivering excellent cost savings also specialist implementing progressive maintenance program', 'valuation services ten years experience tangible assets valuation services deloitte kpmg diverse areas including industrial automotive glass metal foods beverages pharmaceutical oil gas energy entertainment healthcare extractive telecommunications commercial office residential valuation experience assurance fiscal accounting purposes ppa ifrs sfas etc automotive industry experience years automotive martinrea developments toolroom maintenance projects areas education certifications mexican federal certified appraiser machinery equipment real property business rural specialties master degree valuation bachelor science mechatronic engineering associate science digital systems', 'dedicated focused solutions dreamer passionate forensic computing big data cellular communications internet protocols unified communications classical cars charger 1968 frank sinatra hobby comedy videogames football django python rest android java nodejs grunt rds ec2 saas cpaas pbx sbc voip sip scrum kanban']\n",
      "3938\n",
      "\n",
      "\n",
      "\n",
      "[['procter & gamble', 'procter & gamble', 'procter & gamble', 'procter & gamble', 'procter & gamble', 'school group simón bolívar', 'nan', 'nan', 'nan', 'nan'], ['accenture', 'neoris', 'ibm global business services', 'nan', 'nan', 'nan', 'nan', 'nan', 'nan', 'nan'], ['kpmg mexico', 'kpmg mexico', 'kpmg mexico', 'deloitte', 'deloitte', 'deloitte', 'you automotive', 'martinrea international', 'nan', 'nan']]\n",
      "6054\n"
     ]
    }
   ],
   "source": [
    "#\"\"\"\n",
    "print(data[0:3])\n",
    "print(len(data))\n",
    "#\"\"\"\n",
    "\n",
    "#\"\"\"\n",
    "print('\\n\\n')\n",
    "print(data2[0:3])\n",
    "print(len(data2))\n",
    "#\"\"\""
   ]
  },
  {
   "cell_type": "code",
   "execution_count": 3,
   "metadata": {},
   "outputs": [],
   "source": [
    "a = pd.read_csv(\"../CSV/persona2.csv\", delimiter = \";\").astype(str)\n",
    "b = pd.read_csv(\"../CSV/job.csv\", delimiter = \";\").astype(str)\n",
    "\n",
    "def valor_null(valor):\n",
    "    if valor == 'nan':\n",
    "        return ''\n",
    "    else: \n",
    "        return valor\n",
    "\n",
    "\n",
    "\n",
    "data3 = []\n",
    "for i in range(0,len(a)):\n",
    "    c = (a[\"0\"][i] + ' ' +  b[\"organization_1\"][i] + ' ' +  b[\"organization_2\"][i] \n",
    "    + ' ' +  b[\"organization_3\"][i] + ' ' +  b[\"organization_6\"][i] + ' ' \n",
    "    +  b[\"organization_7\"][i] + ' ' +  b[\"organization_8\"][i] + ' ' \n",
    "    +  b[\"organization_9\"][i] + ' ' +  b[\"organization_10\"][i])\n",
    "    data3.append(c)\n",
    "\n"
   ]
  },
  {
   "cell_type": "code",
   "execution_count": 4,
   "metadata": {},
   "outputs": [
    {
     "name": "stdout",
     "output_type": "stream",
     "text": [
      "['senior manager experience leading teams develop continuous improvement strategies manufacturing processes delivering excellent cost savings also specialist implementing progressive maintenance program procter & gamble procter & gamble procter & gamble school group simón bolívar nan nan nan nan', 'nan accenture neoris ibm global business services nan nan nan nan nan', 'valuation services ten years experience tangible assets valuation services deloitte kpmg diverse areas including industrial automotive glass metal foods beverages pharmaceutical oil gas energy entertainment healthcare extractive telecommunications commercial office residential valuation experience assurance fiscal accounting purposes ppa ifrs sfas etc automotive industry experience years automotive martinrea developments toolroom maintenance projects areas education certifications mexican federal certified appraiser machinery equipment real property business rural specialties master degree valuation bachelor science mechatronic engineering associate science digital systems kpmg mexico kpmg mexico kpmg mexico deloitte you automotive martinrea international nan nan', 'dedicated focused solutions dreamer passionate forensic computing big data cellular communications internet protocols unified communications classical cars charger 1968 frank sinatra hobby comedy videogames football django python rest android java nodejs grunt rds ec2 saas cpaas pbx sbc voip sip scrum kanban walmart walmart ecommerce walmart ecommerce polymers aiesec in ireland aiesec nan nan', 'nan totalplay empresarial coriant inc izzi telecom you infotec research and innovation center in ict nan nan nan']\n"
     ]
    }
   ],
   "source": [
    "#print(b[\"organization_10\"][0:10])\n",
    "print(data3[0:5])"
   ]
  },
  {
   "cell_type": "markdown",
   "metadata": {},
   "source": [
    "Separación de datos para entrenar y testear \n",
    "---"
   ]
  },
  {
   "cell_type": "code",
   "execution_count": 8,
   "metadata": {},
   "outputs": [],
   "source": [
    "from sklearn.model_selection import train_test_split\n",
    "\n",
    "# Validación de los datos, porcentaje de datos a dividir, \n",
    "# seleccionar una aleatoriedad fija para caso de otras pruebas \n",
    "# siempre tener el mismo balos\n",
    "train_x, test_x = train_test_split(data, test_size=.85, random_state=42)\n",
    "train_y, test_y = train_test_split(data2, test_size=.85, random_state=42)\n"
   ]
  },
  {
   "cell_type": "code",
   "execution_count": 5,
   "metadata": {},
   "outputs": [],
   "source": [
    "#\"\"\"\n",
    "train_x, test_x = data, data\n",
    "train_y, test_y = data2, data2\n",
    "#\"\"\""
   ]
  },
  {
   "cell_type": "code",
   "execution_count": 10,
   "metadata": {},
   "outputs": [
    {
     "name": "stdout",
     "output_type": "stream",
     "text": [
      "['senior manager experience leading teams develop continuous improvement strategies manufacturing processes delivering excellent cost savings also specialist implementing progressive maintenance program']\n",
      "['senior manager experience leading teams develop continuous improvement strategies manufacturing processes delivering excellent cost savings also specialist implementing progressive maintenance program']\n",
      "\n",
      "\n",
      "\n",
      "\n",
      "[['procter & gamble', 'procter & gamble', 'procter & gamble', 'procter & gamble', 'procter & gamble', 'school group simón bolívar', 'nan', 'nan', 'nan', 'nan']]\n",
      "[['procter & gamble', 'procter & gamble', 'procter & gamble', 'procter & gamble', 'procter & gamble', 'school group simón bolívar', 'nan', 'nan', 'nan', 'nan']]\n"
     ]
    }
   ],
   "source": [
    "print(train_x[0:1])\n",
    "print(test_x[0:1])\n",
    "print('\\n\\n\\n')\n",
    "print(train_y[0:1])\n",
    "print(test_y[0:1])"
   ]
  },
  {
   "cell_type": "markdown",
   "metadata": {},
   "source": [
    "Representación de texto a número (bag of words)"
   ]
  },
  {
   "cell_type": "code",
   "execution_count": 6,
   "metadata": {},
   "outputs": [
    {
     "data": {
      "text/plain": [
       "'\\n\\ntfidf = TfidfVectorizer ()\\ntrain_y_vector = tfidf.fit_transform(train_y)\\ntest_y_vector = tfidf.transform(test_y)\\n'"
      ]
     },
     "execution_count": 6,
     "metadata": {},
     "output_type": "execute_result"
    }
   ],
   "source": [
    "from sklearn.feature_extraction.text import TfidfVectorizer\n",
    "from sklearn.feature_extraction.text import CountVectorizer\n",
    "\n",
    "# En caso de tener los datos sin limpiar dentro \n",
    "# del parentecis se puede agregar un stop_words\n",
    "\n",
    "CountV = CountVectorizer()\n",
    "train_x_vector = CountV.fit_transform(train_x)\n",
    "# also fit the test_x_vector\n",
    "test_x_vector = CountV.transform(test_x)\n",
    "\n",
    "\n",
    "\n",
    "\"\"\"\n",
    "\n",
    "tfidf = TfidfVectorizer ()\n",
    "train_y_vector = tfidf.fit_transform(train_y)\n",
    "test_y_vector = tfidf.transform(test_y)\n",
    "\"\"\""
   ]
  },
  {
   "cell_type": "code",
   "execution_count": 8,
   "metadata": {},
   "outputs": [],
   "source": [
    "CountV = CountVectorizer(stop_words='english')\n",
    "train = CountV.fit_transform(data3)\n",
    "\n",
    "tfidf = TfidfVectorizer ()\n",
    "train_y_vector = tfidf.fit_transform(data)\n",
    "from sklearn.cluster import KMeans\n",
    "\n",
    "#\"\"\"\n",
    "sse = []\n",
    "k_rng = range(1,50)\n",
    "for k in k_rng:\n",
    "    km = KMeans(n_clusters=k,max_iter=300)\n",
    "    km.fit(train_y_vector)\n",
    "    sse.append(km.inertia_)\n",
    "#\"\"\""
   ]
  },
  {
   "cell_type": "code",
   "execution_count": 67,
   "metadata": {},
   "outputs": [
    {
     "data": {
      "image/png": "[encoded data removed]",
      "text/plain": [
       "<Figure size 432x288 with 1 Axes>"
      ]
     },
     "metadata": {
      "needs_background": "light"
     },
     "output_type": "display_data"
    }
   ],
   "source": [
    "from matplotlib import pyplot as plt\n",
    "plt.rc('font',family='Times New Roman')\n",
    "plt.xlabel('Numero de cluster')\n",
    "plt.ylabel('Suma de cuadrados del error (SCE)')\n",
    "plt.title('Método del codo')\n",
    "\n",
    "plt.plot(k_rng,sse,'ro')\n",
    "plt.axvline(x=8,linewidth = 2.5,color='#45858C')\n",
    "plt.axhline(y=3738,linewidth = 2.5,color='#45858C')\n",
    "# plt.axvline(x=12,linewidth = 2.5)\n",
    "# plt.axhline(y=3703.5,linewidth = 2.5)\n",
    "plt.axvline(x=19,linewidth = 2.5,color='#024959')\n",
    "plt.axhline(y=3662,linewidth = 2.5,color='#024959')\n",
    "\n",
    "plt.grid(color = '#BF9765', linestyle = '--', linewidth = 0.5)\n",
    "plt.savefig(\"Metodo_del_codo.eps\",format='eps',dpi=1000)\n"
   ]
  },
  {
   "cell_type": "code",
   "execution_count": 23,
   "metadata": {},
   "outputs": [],
   "source": [
    "from sklearn.cluster import KMeans\n",
    "\n",
    "CountV = CountVectorizer(stop_words='english')\n",
    "train = CountV.fit_transform(data3)\n",
    "\n",
    "\n",
    "km = KMeans(n_clusters=12,max_iter=100)\n",
    "label = km.fit_predict(train)\n"
   ]
  },
  {
   "cell_type": "code",
   "execution_count": 35,
   "metadata": {},
   "outputs": [
    {
     "name": "stdout",
     "output_type": "stream",
     "text": [
      "0        4\n",
      "1        5\n",
      "2       10\n",
      "3        4\n",
      "4        4\n",
      "        ..\n",
      "6049     1\n",
      "6050     1\n",
      "6051     1\n",
      "6052     5\n",
      "6053     1\n",
      "Name: label, Length: 6054, dtype: int32\n"
     ]
    }
   ],
   "source": [
    "a = pd.read_csv(\"../CSV/persona.csv\", delimiter = \";\").astype(str)\n",
    "\n",
    "\n",
    "a['label'] = label\n",
    "print(a['label'])\n",
    "\n",
    "a.to_csv('../CSV/persona.csv', header=False, index=False)"
   ]
  },
  {
   "cell_type": "code",
   "execution_count": null,
   "metadata": {},
   "outputs": [
    {
     "data": {
      "image/png": "[encoded data removed]",
      "text/plain": [
       "<Figure size 432x288 with 1 Axes>"
      ]
     },
     "metadata": {
      "needs_background": "light"
     },
     "output_type": "display_data"
    }
   ],
   "source": [
    "plt.xlabel('K')\n",
    "plt.ylabel('Sum of squared error')\n",
    "plt.plot(k_rng,sse,'ro')\n",
    "plt.grid(color = 'green', linestyle = '--', linewidth = 0.5)"
   ]
  },
  {
   "cell_type": "markdown",
   "metadata": {},
   "source": [
    "K Means\n",
    "---\n",
    "\n",
    "Metodo del codo"
   ]
  },
  {
   "cell_type": "code",
   "execution_count": null,
   "metadata": {},
   "outputs": [],
   "source": [
    "from sklearn.cluster import KMeans\n",
    "\n",
    "sse = []\n",
    "k_rng = range(1,35)\n",
    "for k in k_rng:\n",
    "    km = KMeans(n_clusters=k,max_iter=100)\n",
    "    km.fit_transform(test_x_vector)\n",
    "    sse.append(km.inertia_)"
   ]
  },
  {
   "cell_type": "code",
   "execution_count": null,
   "metadata": {},
   "outputs": [
    {
     "data": {
      "image/png": "[encoded data removed]",
      "text/plain": [
       "<Figure size 432x288 with 1 Axes>"
      ]
     },
     "metadata": {
      "needs_background": "light"
     },
     "output_type": "display_data"
    }
   ],
   "source": [
    "from matplotlib import plot as plt\n",
    "plt.xlabel('K')\n",
    "plt.ylabel('Error Cuadratico')\n",
    "plt.plot(k_rng,sse,'ro')\n",
    "plt.grid(color = 'green', linestyle = '--', linewidth = 0.5)"
   ]
  },
  {
   "cell_type": "code",
   "execution_count": null,
   "metadata": {},
   "outputs": [
    {
     "data": {
      "text/plain": [
       "array([[ 9.72222197,  8.92080242,  4.94705145, ..., 23.40939982,\n",
       "         5.55969683,  4.57641514],\n",
       "       [11.5482293 , 12.52185817, 10.24651573, ..., 25.03996805,\n",
       "        10.2466708 ,  9.81953862],\n",
       "       [11.1248191 , 10.2185397 ,  7.08513983, ..., 24.31049156,\n",
       "         7.43505055,  6.87045853],\n",
       "       ...,\n",
       "       [ 9.75097944,  8.54319151,  4.40479875, ..., 23.74868417,\n",
       "         4.68173388,  4.05707577],\n",
       "       [ 9.60008333,  7.93808215,  3.05386803, ..., 23.51595203,\n",
       "         4.22011711,  2.45891052],\n",
       "       [10.29959222,  8.9465175 ,  5.00570419, ..., 23.89560629,\n",
       "         5.62057836,  4.81574028]])"
      ]
     },
     "execution_count": 19,
     "metadata": {},
     "output_type": "execute_result"
    }
   ],
   "source": [
    "km = KMeans(n_clusters=10,random_state=0,max_iter=300)\n",
    "km.fit_transform(train_x_vector)\n",
    "\n",
    "\n"
   ]
  }
 ],
 "metadata": {
  "interpreter": {
   "hash": "f70c1e2fb12efbb75f4672ba1915fe938ef6bbf49e61743293f7740cd33511b7"
  },
  "kernelspec": {
   "display_name": "Python 3.10.1 64-bit",
   "language": "python",
   "name": "python3"
  },
  "language_info": {
   "codemirror_mode": {
    "name": "ipython",
    "version": 3
   },
   "file_extension": ".py",
   "mimetype": "text/x-python",
   "name": "python",
   "nbconvert_exporter": "python",
   "pygments_lexer": "ipython3",
   "version": "3.10.1"
  },
  "orig_nbformat": 4
 },
 "nbformat": 4,
 "nbformat_minor": 2
}
