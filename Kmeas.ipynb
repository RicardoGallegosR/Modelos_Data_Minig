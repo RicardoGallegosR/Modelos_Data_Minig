{
 "cells": [
  {
   "cell_type": "markdown",
   "metadata": {},
   "source": [
    "---\n",
    "Algoritmo de kmeans\n",
    "---\n",
    "\n",
    "---"
   ]
  },
  {
   "cell_type": "markdown",
   "metadata": {},
   "source": [
    "Librerías"
   ]
  },
  {
   "cell_type": "code",
   "execution_count": 1,
   "metadata": {},
   "outputs": [],
   "source": [
    "import pandas as pd\n",
    "from sklearn.feature_extraction.text import TfidfVectorizer\n",
    "from sklearn.cluster import KMeans\n",
    "from sklearn.metrics import adjusted_rand_score"
   ]
  },
  {
   "cell_type": "markdown",
   "metadata": {},
   "source": [
    "Lectura de archivos\n",
    "---"
   ]
  },
  {
   "cell_type": "code",
   "execution_count": 2,
   "metadata": {},
   "outputs": [],
   "source": [
    "a = pd.read_csv(\"../CSV/persona2.csv\", delimiter = \";\").astype(str)\n",
    "data = []\n",
    "for i in range(0,len(a)):\n",
    "    if a[\"0\"][i] == 'nan':\n",
    "        #continue\n",
    "        data.append('null')\n",
    "    else:    \n",
    "        data.append(a[\"0\"][i])\n",
    "\n",
    "#print(len(data))"
   ]
  },
  {
   "cell_type": "markdown",
   "metadata": {},
   "source": [
    "Model\n",
    "---"
   ]
  },
  {
   "cell_type": "code",
   "execution_count": 8,
   "metadata": {},
   "outputs": [
    {
     "name": "stdout",
     "output_type": "stream",
     "text": [
      "Cluster 0:\n",
      " experience  work  years  projects  new  design  people  area  management  passionate  iso8859  mexico  different  professional  development \n",
      "\n",
      "Cluster 1:\n",
      " marketing  digital  experience  media  strategies  advertising  communication  market  years  campaigns  social  sales  brand  business  management \n",
      "\n",
      "Cluster 2:\n",
      " null  zuul  errors  escalation  escalate  esca  esb  esade  esa  es_es  es6  es5  erture  error  escobedo \n",
      "\n",
      "Cluster 3:\n",
      " systems  engineer  experience  development  software  years  computer  support  management  information  cloud  windows  security  linux  technical \n",
      "\n",
      "Cluster 4:\n",
      " developer  web  java  development  software  experience  applications  sql  technologies  net  spring  years  using  javascript  programming \n",
      "\n",
      "Cluster 5:\n",
      " legal  lawyer  corporate  contracts  property  experience  law  intellectual  matters  years  labor  public  civil  companies  compliance \n",
      "\n",
      "Cluster 6:\n",
      " psychology  psychologist  recruitment  clinical  experience  human  selection  educational  area  organizational  training  psychological  resources  children  development \n",
      "\n",
      "Cluster 7:\n",
      " work  knowledge  company  professional  skills  develop  personal  new  objectives  experience  growth  person  contribute  area  team \n",
      "\n",
      "Cluster 8:\n",
      " medical  medicine  health  clinical  research  care  hospital  surgery  experience  surgeon  general  doctor  management  years  national \n",
      "\n",
      "Cluster 9:\n",
      " law  corporate  lawyer  experience  degree  administrative  civil  university  contracts  legal  labor  specialty  notarial  litigation  fiscal \n",
      "\n",
      "Cluster 10:\n",
      " demonstrated  history  skilled  experienced  strong  working  industry  professional  engineering  focused  technology  services  information  computer  microsoft \n",
      "\n",
      "Cluster 11:\n",
      " experience  business  management  sales  years  customer  service  administration  development  commercial  planning  strategic  project  analysis  market \n",
      "\n"
     ]
    },
    {
     "name": "stderr",
     "output_type": "stream",
     "text": [
      "c:\\Users\\Ricardo\\AppData\\Local\\Programs\\Python\\Python310\\lib\\site-packages\\sklearn\\utils\\deprecation.py:87: FutureWarning: Function get_feature_names is deprecated; get_feature_names is deprecated in 1.0 and will be removed in 1.2. Please use get_feature_names_out instead.\n",
      "  warnings.warn(msg, category=FutureWarning)\n"
     ]
    }
   ],
   "source": [
    "vectorizer = TfidfVectorizer(stop_words='english')\n",
    "X = vectorizer.fit_transform(data)\n",
    "\n",
    "true_k = 12\n",
    "model = KMeans(n_clusters=true_k, init='k-means++', max_iter=600,  random_state=0, n_init=25)\n",
    "model.fit(X)\n",
    "\n",
    "order_centroids = model.cluster_centers_.argsort()[:, ::-1]\n",
    "terms = vectorizer.get_feature_names()\n",
    "for i in range(true_k):\n",
    "    print(\"Cluster %d:\" % i),\n",
    "    for ind in order_centroids[i, :15]:\n",
    "        print(' %s' % terms[ind],end=' '),\n",
    "    print('\\n')"
   ]
  },
  {
   "cell_type": "markdown",
   "metadata": {},
   "source": [
    "Testing\n",
    "---"
   ]
  },
  {
   "cell_type": "code",
   "execution_count": 9,
   "metadata": {},
   "outputs": [
    {
     "name": "stdout",
     "output_type": "stream",
     "text": [
      "\n",
      "\n",
      "Prediction\n",
      "20\n",
      "Prediction:  [11]\n",
      "Prediction:  [7]\n",
      "Prediction:  [0]\n",
      "Prediction:  [0]\n",
      "Prediction:  [5]\n",
      "Prediction:  [5]\n",
      "Prediction:  [0]\n",
      "Prediction:  [5]\n",
      "Prediction:  [1]\n",
      "Prediction:  [1]\n",
      "Prediction:  [3]\n",
      "Prediction:  [0]\n",
      "Prediction:  [0]\n",
      "Prediction:  [8]\n",
      "Prediction:  [0]\n",
      "Prediction:  [8]\n",
      "Prediction:  [6]\n",
      "Prediction:  [7]\n",
      "Prediction:  [3]\n",
      "Prediction:  [4]\n"
     ]
    }
   ],
   "source": [
    "print(\"\\n\")\n",
    "print(\"Prediction\")\n",
    "\n",
    "text = ['High performance and experience in strategies, operations, analysis, business development with a variety of roles with demonstrated ability in qualitative and quantitative fields. Car purchases, Car Maintenance, Management, Insurance, Telemetry, Remarketing. Complete cycle of Fleet Management.',\n",
    "        'Business Administrator, I have 8 years of experience in accounts payable, I consider myself a proactive person, very easy to learn, I am open to any objective and job opportunity that arises. Able to adapt to challenges, self-analytical and knows how to work in a team.',\n",
    "        'I am a dynamic person, I have worked in various areas such as accounting, taxes, payroll, auditing, internal control, finance, and administration. I like challenges and learning from people close to me.',\n",
    "        'Professional accountant with more than ten years of experience in financial areas. Experience modernizing and renewing controls, reorganizing processes, and simplifying procedures to maximize the efficiency and accuracy of accounting records. He actively participated in consulting for entrepreneurial projects, guidance on tax issues and accounting development in general.',\n",
    "        \"Corporate lawyer (in-house lawyer) preparation, review, and negotiation of all types of contracts for the provision of services, financial, donation, sponsorships, leasing, software, anti-money laundering compliance review, attention to requirements of judicial authorities, legal research, issuance of risks to internal areas in accordance with the Firm's policies.\",\n",
    "        'Bilingual lawyer with 10 years of career, ensuring compliance with regulations focused on Construction, Public Works, Digital Government, Commercial and Corporate Law projects, through the development and implementation of review protocols for compliance with guidelines and laws for their execution. She is a specialist in the development and management of tenders to ensure the correct operation and selection of suppliers.',\n",
    "        'I want to contribute to the formation of a fairer Mexico and for this I consider essential to make a comprehensive diagnosis of national problems. I have prepared myself in the best institutions in the country where I have been able to consolidate knowledge in the legal, political, and economic fields. On a personal level I have a strong inclination to understand the anthropological and historical aspects of each phenomenon.',\n",
    "        'Lawyer with extensive experience in professional and business training for university teaching undergraduate and graduate in human resources especially. Independent professional in alternative resolution of resolution of conflicts. Consulting and negotiating with out-standing experience in legal advice to individuals and companies, in draft and analysis of contracts, and transactional agreements expert in negotiation.',\n",
    "        'Specialized in marketing strategies and measuring return on investment (ROI – Marketing On Premise & Digital Marketing: SEO/SEM, SMM/SMO, Google Adwords, Google Analytics), RRSS, channel development and demand generation. Including: product marketing, direct marketing, product launches, advertising, pricing strategies, market analysis, branding, public relations strategies, loyalty programs, sales tools and events. Extensive experience in Co-Op funds management and channel development programs.',\n",
    "        'Manager, Marketing, Communication, Brand, Social Media, Digital, Regional, National, Media, Internal, External, Communications, E-Commerce, Retail, Phama, Corporate, Television, Design, Sales, Campaign, Campaigns 80',\n",
    "        \"Mechanical engineer, 4 years of experience in automotive industry as industrial engineer.I'm about to finish a project at Brose QUA, I was in that project since the delivery release phase and I'm laddering it.I have experience in fixture modifications to reduce operation times. As well I have been working on gages and poke yoke design and implementation.\",\n",
    "        'Electrical Mechanical Engineer with certifications in the mechanical area and project management. Eager to gain new knowledge, committed to acting responsibly and proactively, fully capable of teamwork and able to come up with new and fresh ideas to solve a problem.',\n",
    "        'Physician with work experience in the public and private sectors, with solid knowledge in coordinating health services, trained to offer reliable management in each situation and favor teamwork with positive results. Skilled at detecting and understanding the social, economic, technological, and cultural signals of the local and global environment, to incorporate them into an institutional strategy. Domain of primary care, effective diagnosis, and quality treatment, focused on the clinical condition of each patient to achieve optimal results',\n",
    "        'Intern Physician. General Hospital Dr. Gregorio Salas. /Mexico City. Presentation of academic sessions on relevant topics focused on the needs at the first level of care. Participation in external consultation giving quality care to patients of the different services that were granted in the hospital. Implementation of a health intervention project for the social service of community medicine with an emphasis on family medicine with issues related to type II diabetes mellitus at the first level of care at the Specialty Clinic No. 2. Carrying out workshops focused on early stimulation.',\n",
    "        'Professional nurse willing to fulfill a social function, within the legal and constitutional parameters. I can address and solve human health problems, as part of a comprehensive team. Formulate plans for promotion and prevention, treatment, or recovery of health, according to the possibilities of care.',\n",
    "        '18 years of experience within the hospital field at the operational and administrative level. Management of the human factor in training and in training continues immersed in health care.',\n",
    "        'Experience in clinical psychology in private practice children, adolescents, adults, and couples. I consider that psychotherapy is the main pillar for the knowledge of oneself, of the potentialities of the patient and of the conflicts that we all suffer or suffer. My clinical practice has led me to question my practice as a clinical psychologist in the sense of not adopting patients to a dominant collective or social reality.',\n",
    "        'I am passionate about my profession and my work of working with Human Capital, I consider it to be one of the most important pillars of an organization because it covers different areas, and this is very enriching. From my experience I have had the opportunity to work in most areas of Human Resources, I like contact with people, since this allows me to have professional development and be a globalized person',\n",
    "        'Engineer with a degree in Computing and Systems, specializing in Business Intelligence, with the ability to lead multidisciplinary teams. Experienced in analyzing large volumes of data. Strategic thinking, with the ability to relate at all levels, persevering, flexible, creative, and innovative. With experience in the Analysis, Design, Development and Implementation of Information Systems, Data Warehouse and Data Lake in an agile way, with solid principles and personal and professional values.',\n",
    "        'I have had the opportunity to strengthen my communication skills with technical and non-technical teams, I have proposed and carried out activities to minimize technical debt, improve response times and document processes. I like to train and share knowledge. I have collaborated under scrum methodology as Front End in web application projects and I maintain a self-taught rhythm deepening in Web and Mobile development. Touching UI/UX issues.']\n",
    "\n",
    "print (len(text))\n",
    "\n",
    "for i in range(0,len(text)):\n",
    "    Y = vectorizer.transform([text[i]])\n",
    "    prediction = model.predict(Y)\n",
    "    print('Prediction: ',prediction)\n",
    "\n",
    "\n",
    "# Y = vectorizer.transform([\"Professional, results-driven, and bilingual employee seeking an opportunity to utilize and build up acquired skills. Development of company knowledge and corporate controls at a national and international level. Proven ability to showcase positive public images for companies and deploy strategic business improvements..\"])\n",
    "# prediction = model.predict(Y)\n",
    "# print(prediction)\n",
    "\n",
    "# Y = vectorizer.transform([\"I am a nurse by vocation, I am passionate about my work and always being active in practice. I seek to learn something new every day but I always keep one thing the same, my humanity towards people, which I believe is what makes the difference in healthcare.\"])\n",
    "# prediction = model.predict(Y)\n",
    "# print(prediction)"
   ]
  },
  {
   "cell_type": "markdown",
   "metadata": {},
   "source": [
    "Save\n",
    "---"
   ]
  },
  {
   "cell_type": "code",
   "execution_count": 5,
   "metadata": {},
   "outputs": [
    {
     "name": "stdout",
     "output_type": "stream",
     "text": [
      "6054\n"
     ]
    }
   ],
   "source": [
    "Y = vectorizer.transform(data)\n",
    "num_cluster = model.predict(Y)\n",
    "\n",
    "print(len(num_cluster))\n"
   ]
  }
 ],
 "metadata": {
  "interpreter": {
   "hash": "f70c1e2fb12efbb75f4672ba1915fe938ef6bbf49e61743293f7740cd33511b7"
  },
  "kernelspec": {
   "display_name": "Python 3.10.1 64-bit",
   "language": "python",
   "name": "python3"
  },
  "language_info": {
   "codemirror_mode": {
    "name": "ipython",
    "version": 3
   },
   "file_extension": ".py",
   "mimetype": "text/x-python",
   "name": "python",
   "nbconvert_exporter": "python",
   "pygments_lexer": "ipython3",
   "version": "3.10.1"
  },
  "orig_nbformat": 4
 },
 "nbformat": 4,
 "nbformat_minor": 2
}
